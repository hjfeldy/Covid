{
 "cells": [
  {
   "cell_type": "code",
   "execution_count": 1,
   "metadata": {},
   "outputs": [],
   "source": [
    "import pandas as pd\n",
    "import numpy as np\n",
    "import matplotlib.pyplot as plt"
   ]
  },
  {
   "cell_type": "code",
   "execution_count": null,
   "metadata": {},
   "outputs": [],
   "source": [
    "df = pd.read_csv('http://data.cdc.gov/api/views/vbim-akqf/rows.csv?accessType=DOWNLOAD')\n",
    "# If you already have the csv file downloaded, replace the above code with: \n",
    "    # df = pd.read_csv(<PATH_TO_CSV>)\n"
   ]
  },
  {
   "cell_type": "code",
   "execution_count": null,
   "metadata": {
    "scrolled": true
   },
   "outputs": [],
   "source": [
    "#Rename columns for ease of visibility\n",
    "renames = {'Black, Non-Hispanic': 'Black', 'White, Non-Hispanic': 'White', 'Hispanic/Latino': 'Hispanic',\n",
    "           'Asian, Non-Hispanic': 'Asian', 'Multiple/Other, Non-Hispanic':'Other', \n",
    "           'American Indian/Alaska Native, Non-Hispanic': 'Native', \n",
    "           'Native Hawaiian/Other Pacific Islander, Non-Hispanic': 'Pacific Islander'}\n",
    "for key in renames.keys():\n",
    "    df = df.replace(key, renames[key])\n",
    "df"
   ]
  },
  {
   "cell_type": "code",
   "execution_count": null,
   "metadata": {},
   "outputs": [],
   "source": [
    "# Extract month from date\n",
    "def getMonth(date):\n",
    "    return date[5:7]\n",
    "df['month'] = df['cdc_report_dt'].apply(getMonth)\n"
   ]
  },
  {
   "cell_type": "code",
   "execution_count": null,
   "metadata": {},
   "outputs": [],
   "source": [
    "# Get rid of missing and unknown data\n",
    "df = df.replace(['Missing', 'Unknown'], np.nan) #no interest in these rows\n",
    "df = df.replace('No', 0)\n",
    "df = df.replace('Yes', 1)\n",
    "\n",
    "df = df.replace('Male', 1)\n",
    "df = df.replace('Female', 0)\n",
    "\n",
    "df['sex'] = df['sex'].replace('Other', np.nan) #Negligle - only like 30 people are \"other\" in this dataset\n",
    "\n",
    "#We don't mind keeping nan values for date data, \n",
    "#so we need to replace nan with something that won't be dropped by dropna\n",
    "df['pos_spec_dt'] = df['pos_spec_dt'].replace(np.nan, '--')\n",
    "df['onset_dt'] = df['onset_dt'].replace(np.nan, '--')\n",
    "dropped = df.dropna()\n",
    "df\n",
    "\n",
    "# We still have almost half a million rows that have every single one of our desired datapoints"
   ]
  },
  {
   "cell_type": "code",
   "execution_count": null,
   "metadata": {},
   "outputs": [],
   "source": [
    "# Save clean dataframe\n",
    "dropped.to_csv('../Data/clean_data.csv', index=False)"
   ]
  },
  {
   "cell_type": "markdown",
   "metadata": {},
   "source": [
    "## Have we introduced bias into our sample?\n",
    "We have cut down our sample size by more than 90%. Thankfully, even when we're extremely picky, and we don't allow for *any* datapoints to be missing (convenient for quantitative analysis), we still have almost half a *million* cases of Covid-19 to examine.\n",
    "\n",
    "Thanks to the CDC's huge amount of data collected, we can prune down the data, and we still have 10x the sample size that Pfizer had for its phase 3 Covid vaccine trials (which just got approved\n",
    "\n",
    "So, we don't have to worry about whether or not we have removed *too much* of the dataset, but we do have to worry about the possibility of bias. Did we remove rows randomly, or did we introduce bias? \n",
    "\n",
    "---\n",
    "## Random selection\n",
    "To understand why the question of randomness is so important, think of a simple example: You have a dataset of one billion men, sampled from the globe at random. The two columns of information are height and nationality. You find that the average height for men is 176.5 cm. Now, think of three distinct scenarios:\n",
    "\n",
    "Scenario 1: You RANDOMLY select 1000 (0.1%) of the men. Do you think the average height will still be 176.5 cm?\n",
    "\n",
    "Scenario 2: You select 1000 men, but you make sure they are ALL from the country of Norway (an especially tall country). Now, do you think the new average will reflect the global average?\n",
    "\n",
    "Scenario 3: You select 1000 men, but you make sure that you ONLY select men who wore red hats today. Now, do you think the new average will reflect the global average?\n",
    "\n",
    "Both scenario 2 and 3 are highly UN-random, but only one is a biased sample of height. The sample average height for scenario 3 should yield the same value as the global population average. This is because nationality correlates with height, and the wearing of red hats does not.\n",
    "\n",
    "---\n",
    "## CDC Data\n",
    "This is the question we need to be asking ourselves: Is our selection criteria (the full availability of hospital data) correlated with our dependent variable (death)?\n",
    "When we drop these 7.5 million incomplete rows, is it more akin to the nationality example, or the red hats example?\n",
    "\n",
    "We can explore this question intuitively and quantitatively. Intuitively, I would make the argument that there is unlikely to be any correlation between a hospital's data-reporting and its patient outcomes. I imagine that the staff who generate these datasets are not doctors, and the quality of their work does not reflect the quality of the medical work at these hospitals. I would assume based on intuition that the quality of medical care and the quality of reported data are completely independent of one another. \n",
    "\n",
    "One great way to look for bias is to visualize the distribution of population fields. In this case, intuition prevails. The distributions are nearly identical after performing the data pruning."
   ]
  },
  {
   "cell_type": "code",
   "execution_count": null,
   "metadata": {},
   "outputs": [],
   "source": [
    "#Generate a histogram of the two dataframes - one with dropped values, the other without\n",
    "def compareHistogram(col):\n",
    "    fig, axs = plt.subplots(1,2, figsize= (20,8))\n",
    "    fig.suptitle(col)\n",
    "    \n",
    "    df[col].hist(ax = axs[0])\n",
    "    axs[0].set_title('Before Dropping:')\n",
    "\n",
    "    dropped[col].hist(ax = axs[1])\n",
    "    axs[1].set_title('After Dropping')\n",
    "    plt.savefig('../Images/drop_data_comparisons/' + col + '.png', facecolor = 'white')\n",
    "\n",
    "    \n",
    "for column in ['month','Race and ethnicity (combined)', 'age_group', 'hosp_yn','icu_yn','death_yn','medcond_yn', 'sex']:\n",
    "    compareHistogram(column)"
   ]
  },
  {
   "cell_type": "code",
   "execution_count": null,
   "metadata": {},
   "outputs": [],
   "source": []
  }
 ],
 "metadata": {
  "kernelspec": {
   "display_name": "Python 3",
   "language": "python",
   "name": "python3"
  },
  "language_info": {
   "codemirror_mode": {
    "name": "ipython",
    "version": 3
   },
   "file_extension": ".py",
   "mimetype": "text/x-python",
   "name": "python",
   "nbconvert_exporter": "python",
   "pygments_lexer": "ipython3",
   "version": "3.8.5"
  }
 },
 "nbformat": 4,
 "nbformat_minor": 4
}

{
 "cells": [
  {
   "cell_type": "code",
   "execution_count": 1,
   "metadata": {},
   "outputs": [],
   "source": [
    "#Dependencies\n",
    "import pandas as pd\n",
    "import numpy as np\n",
    "import matplotlib.pyplot as plt\n",
    "import statsmodels.api as sm\n",
    "import scipy.stats as st\n",
    "from scipy.stats import linregress"
   ]
  },
  {
   "cell_type": "markdown",
   "metadata": {},
   "source": [
    "# 1. Data Retrieval and Cleanup\n",
    "\n",
    "In this section, we will prepare our raw CDC data for visual and quantitative analysis. We were very fortunate to find such a wealth of data. Thank you, CDC! Only about 6% of the raw dataset could be considered \"clean\" (no missing datapoints), but the original dataset was so large that we retained nearly half a million rows of patient data."
   ]
  },
  {
   "cell_type": "code",
   "execution_count": null,
   "metadata": {},
   "outputs": [],
   "source": [
    "df = pd.read_csv('http://data.cdc.gov/api/views/vbim-akqf/rows.csv?accessType=DOWNLOAD')\n",
    "# If you already have the csv file downloaded, replace the above code with: \n",
    "    # df = pd.read_csv(<PATH_TO_CSV>)\n"
   ]
  },
  {
   "cell_type": "code",
   "execution_count": null,
   "metadata": {},
   "outputs": [],
   "source": [
    "#Rename columns for ease of visibility\n",
    "renames = {'Black, Non-Hispanic': 'Black', 'White, Non-Hispanic': 'White', 'Hispanic/Latino': 'Hispanic',\n",
    "           'Asian, Non-Hispanic': 'Asian', 'Multiple/Other, Non-Hispanic':'Other', \n",
    "           'American Indian/Alaska Native, Non-Hispanic': 'Native', \n",
    "           'Native Hawaiian/Other Pacific Islander, Non-Hispanic': 'Pacific Islander'}\n",
    "for key in renames.keys():\n",
    "    df = df.replace(key, renames[key])\n",
    "df.head()"
   ]
  },
  {
   "cell_type": "code",
   "execution_count": null,
   "metadata": {},
   "outputs": [],
   "source": [
    "# Extract month from date\n",
    "#df.to_csv('new.csv')\n",
    "def getMonth(date):\n",
    "    try:\n",
    "        return date[5:7]\n",
    "    except:\n",
    "        return date\n",
    "df['month'] = df['cdc_report_dt'].apply(getMonth)\n"
   ]
  },
  {
   "cell_type": "code",
   "execution_count": null,
   "metadata": {},
   "outputs": [],
   "source": [
    "# Get rid of missing and unknown data\n",
    "df = df.replace(['Missing', 'Unknown'], np.nan) #no interest in these rows\n",
    "df = df.replace('No', 0)\n",
    "df = df.replace('Yes', 1)\n",
    "\n",
    "df = df.replace('Male', 1)\n",
    "df = df.replace('Female', 0)\n",
    "\n",
    "df['sex'] = df['sex'].replace('Other', np.nan) #Negligle - only like 30 people are \"other\" in this dataset\n",
    "\n",
    "#We don't mind keeping nan values for date data, \n",
    "#so we need to replace nan with something that won't be dropped by dropna\n",
    "df['pos_spec_dt'] = df['pos_spec_dt'].replace(np.nan, '--')\n",
    "df['onset_dt'] = df['onset_dt'].replace(np.nan, '--')\n",
    "dropped = df.dropna()\n",
    "df.head()\n",
    "\n",
    "# We still have almost half a million rows that have every single one of our desired datapoints"
   ]
  },
  {
   "cell_type": "code",
   "execution_count": null,
   "metadata": {},
   "outputs": [],
   "source": [
    "# Save clean dataframe\n",
    "dropped.to_csv('Data/clean_data.csv', index=False)"
   ]
  },
  {
   "cell_type": "markdown",
   "metadata": {},
   "source": [
    "## Bias\n",
    "### Have we introduced bias into our sample?\n",
    "We have cut down our sample size by more than 90%. Thankfully, even when we're extremely picky, and we don't allow for *any* datapoints to be missing (convenient for quantitative analysis), we still have almost half a *million* cases of Covid-19 to examine.\n",
    "\n",
    "Thanks to the CDC's huge amount of data collected, we can prune down the data, and we still have 10x the sample size that Pfizer had for its phase 3 Covid vaccine trials (which just got approved\n",
    "\n",
    "So, we don't have to worry about whether or not we have removed *too much* of the dataset, but we do have to worry about the possibility of bias. Did we remove rows randomly, or did we introduce bias? \n",
    "\n",
    "---\n",
    "### Random selection\n",
    "To understand why the question of randomness is so important, think of a simple example: You have a dataset of one billion men, sampled from the globe at random. The two columns of information are height and nationality. You find that the average height for men is 176.5 cm. Now, think of three distinct scenarios:\n",
    "\n",
    "Scenario 1: You RANDOMLY select 1000 (0.1%) of the men. Do you think the average height will still be 176.5 cm?\n",
    "\n",
    "Scenario 2: You select 1000 men, but you make sure they are ALL from the country of Norway (an especially tall country). Now, do you think the new average will reflect the global average?\n",
    "\n",
    "Scenario 3: You select 1000 men, but you make sure that you ONLY select men who wore red hats today. Now, do you think the new average will reflect the global average?\n",
    "\n",
    "Both scenario 2 and 3 are highly UN-random, but only one is a biased sample of height. The sample average height for scenario 3 should yield the same value as the global population average. This is because nationality correlates with height, and the wearing of red hats does not.\n",
    "\n",
    "---\n",
    "### CDC Data Sampling\n",
    "This is the question we need to be asking ourselves: Is our selection criteria (the full availability of hospital data) correlated with our dependent variable (death)?\n",
    "When we drop these 7.5 million incomplete rows, is it more akin to the nationality example, or the red hats example?\n",
    "\n",
    "We can explore this question intuitively and quantitatively. Intuitively, I would make the argument that there is unlikely to be any correlation between a hospital's data-reporting and its patient outcomes. I imagine that the staff who generate these datasets are not doctors, and the quality of their work does not reflect the quality of the medical work at these hospitals. I would assume based on intuition that the quality of medical care and the quality of reported data are completely independent of one another. \n",
    "\n",
    "One great way to look for bias is to visualize the distribution of population fields. In this case, intuition prevails. The distributions are nearly identical after performing the data pruning."
   ]
  },
  {
   "cell_type": "code",
   "execution_count": null,
   "metadata": {},
   "outputs": [],
   "source": [
    "#Generate a histogram of the two dataframes - one with dropped values, the other without\n",
    "def compareHistogram(col):\n",
    "    fig, axs = plt.subplots(1,2, figsize= (20,8))\n",
    "    fig.suptitle(col)\n",
    "    \n",
    "    df[col].hist(ax = axs[0])\n",
    "    axs[0].set_title('Before Dropping:')\n",
    "\n",
    "    dropped[col].hist(ax = axs[1])\n",
    "    axs[1].set_title('After Dropping')\n",
    "    plt.savefig('Images/drop_data_comparisons/' + col + '.png', facecolor = 'white')\n",
    "\n",
    "    \n",
    "for column in ['month','race_ethnicity_combined', 'age_group', 'hosp_yn','icu_yn','death_yn','medcond_yn', 'sex']:\n",
    "    compareHistogram(column)"
   ]
  },
  {
   "cell_type": "markdown",
   "metadata": {},
   "source": [
    "# 1.1 Gather Hospital Data from Health.gov \n",
    "We will group this data by month so as to get a general picture of the country \n",
    "\n",
    "State-by-state information (like the information in this particular dataset) is not of any interest to our analysis, because there is no location data in the CDC dataset"
   ]
  },
  {
   "cell_type": "code",
   "execution_count": null,
   "metadata": {},
   "outputs": [],
   "source": [
    "df = pd.read_csv('https://healthdata.gov/sites/default/files/reported_hospital_utilization_timeseries_20201213_2141.csv')\n",
    "df"
   ]
  },
  {
   "cell_type": "code",
   "execution_count": null,
   "metadata": {},
   "outputs": [],
   "source": [
    "occupancy = df[['date', 'adult_icu_bed_covid_utilization', 'inpatient_beds_utilization', 'percent_of_inpatients_with_covid']]\n",
    "\n",
    "def getMonth(date):\n",
    "    return date[5:7]\n",
    "\n",
    "# Group by month\n",
    "occupancy['month'] = occupancy['date'].apply(getMonth)\n",
    "occupancy = occupancy.groupby('month', dropna = False).mean()[['adult_icu_bed_covid_utilization', 'inpatient_beds_utilization', 'percent_of_inpatients_with_covid']]\n",
    "occupancy"
   ]
  },
  {
   "cell_type": "code",
   "execution_count": null,
   "metadata": {},
   "outputs": [],
   "source": [
    "# Save Data\n",
    "df.to_csv('Data/hospital_info.csv', index=False)\n",
    "occupancy.to_csv('Data/hospital_occupancy.csv')"
   ]
  },
  {
   "cell_type": "markdown",
   "metadata": {},
   "source": [
    "# 1.2 Merge Hospital Data into Main CDC Dataset"
   ]
  },
  {
   "cell_type": "code",
   "execution_count": null,
   "metadata": {},
   "outputs": [],
   "source": [
    "df = pd.read_csv('Data/clean_data.csv')\n",
    "cap = pd.read_csv('Data/hospital_occupancy.csv', index_col = False)\n",
    "cap"
   ]
  },
  {
   "cell_type": "code",
   "execution_count": null,
   "metadata": {},
   "outputs": [],
   "source": [
    "# Perform Merge\n",
    "df = pd.merge(df, cap[['month', 'inpatient_beds_utilization', 'percent_of_inpatients_with_covid']], on = 'month').rename(columns={\n",
    "    \n",
    "    'inpatient_beds_utilization': 'inpatient__occupancy'\n",
    "    \n",
    "})\n",
    "df.head()"
   ]
  },
  {
   "cell_type": "code",
   "execution_count": null,
   "metadata": {},
   "outputs": [],
   "source": [
    "# Save (and overwrite) data.\n",
    "df.to_csv('Data/clean_data.csv', index= False)"
   ]
  },
  {
   "cell_type": "markdown",
   "metadata": {},
   "source": [
    "# 2. Data Exploration and Visualization\n",
    "\n",
    "## Gender"
   ]
  },
  {
   "cell_type": "markdown",
   "metadata": {},
   "source": [
    "## Are more men dying from COVID-19 than women?"
   ]
  },
  {
   "cell_type": "code",
   "execution_count": null,
   "metadata": {},
   "outputs": [],
   "source": [
    "df = pd.read_csv('./Data/clean_data.csv')\n",
    "\n",
    "# Are more men dying from COVID-19 than women?\n",
    "\n",
    "clean_data_df = df\n",
    "\n",
    "# Calculate the distribution of female versus male COVID-19 Cases\n",
    "total_cases= len(clean_data_df['sex'])\n",
    "\n",
    "by_gender_count=clean_data_df[\"sex\"].value_counts()\n",
    "\n",
    "by_gender_pct = (100*(by_gender_count/total_cases)).round(2)\n",
    "\n",
    "# Calculate the distribution of female versus male deaths by COVID-19\n",
    "death = clean_data_df[(clean_data_df['death_yn'] == 1.0)]\n",
    "total_death = len(death['death_yn'])\n",
    "by_gender_death=death[\"sex\"].value_counts()\n",
    "by_gender_death_pct = (100*(by_gender_death/total_death)).round(2)\n",
    "\n",
    "\n",
    "# Calculate the distribution of female versus male deaths with underlying medical condition by COVID-19\n",
    "death_med_cond = death[(death['medcond_yn'] == 1.0)]\n",
    "total_death_med_cond = len(death_med_cond['medcond_yn'])\n",
    "by_gender_death_med_cond = death_med_cond[\"sex\"].value_counts()\n",
    "by_gender_death_med_cond_pct = (100*(by_gender_death_med_cond/total_death_med_cond)).round(2)\n",
    "\n",
    "# Assemble the resulting series into a single summary dataframe.\n",
    "gender_df = pd.DataFrame({\"Sex\": [\"Female\", \"Male\"],\n",
    "                          \"Number of Cases\": by_gender_count,\n",
    "                          \"Share of Cases (%)\": by_gender_pct,\n",
    "                          \"Number of Deaths\":by_gender_death,\n",
    "                          \"Share of Deaths (%)\":by_gender_death_pct,\n",
    "                          \"Deaths with underlying condition\": by_gender_death_med_cond,\n",
    "                          \"Share of Death with underlying condition (%)\":by_gender_death_med_cond_pct })\n",
    "\n",
    "gender_df"
   ]
  },
  {
   "cell_type": "code",
   "execution_count": null,
   "metadata": {},
   "outputs": [],
   "source": [
    "### COVID-19 Cases and Deaths Disaggregated by Sex\n",
    "\n",
    "# Pie plot showing the distribution of male versus female COVID-19 Cases\n",
    "\n",
    "# Create Labels for the sections of the pie\n",
    "labels = gender_df[\"Sex\"]\n",
    "distribution = gender_df[\"Share of Cases (%)\"]\n",
    "\n",
    "# Pie plot using pyplot\n",
    "plt.pie(distribution, labels=labels, colors = ['green', 'blue'],explode = (0.1, 0), autopct=\"%1.1f%%\",shadow=True, startangle=90 )\n",
    "\n",
    "#Formatting\n",
    "plt.title(\"U.S. COVID-19 Cases by Sex\")\n",
    "\n",
    "plt.savefig('Images/US_Covid_cases_by_sex.png')\n",
    "plt.show()\n",
    "\n",
    "# Pie plot showing the distribution of male versus female deaths by COVID-19 Cases\n",
    "\n",
    "# Create Labels for the sections of the pie\n",
    "labels = gender_df[\"Sex\"]\n",
    "distribution = gender_df[\"Share of Deaths (%)\"]\n",
    "\n",
    "# Pie plot using pyplot\n",
    "plt.pie(distribution, labels=labels, colors = ['green', 'blue'],explode = (0.1, 0), autopct=\"%1.1f%%\",shadow=True, startangle=90 )\n",
    "\n",
    "#Formatting\n",
    "plt.title(\"U.S. COVID-19 Deaths by Sex\")\n",
    "\n",
    "plt.savefig('Images/US_Covid_deaths_by_sex.png')\n",
    "plt.show()"
   ]
  },
  {
   "cell_type": "markdown",
   "metadata": {},
   "source": [
    "After analyzing and comparing the pie chart U.S. COVID-19 cases and deaths, it is possible to observe that the female gender has a larger percentage of getting the COVID disease and the male gender has a larger percentage of deaths. The ratio of COVID-19 by sex mortality rate shows that men has 1.4 chances of dying compared to women indicating that for every 10 deaths among confirmed cases in women, there are 14 death in men."
   ]
  },
  {
   "cell_type": "code",
   "execution_count": null,
   "metadata": {},
   "outputs": [],
   "source": [
    "### Rate Ratio of COVID-19 by Sex Mortality Rate\n",
    "\n",
    "total_pct_deaths =(100*(by_gender_death/total_cases)).round(2)\n",
    "\n",
    "\n",
    "sex_ratio_df = pd.DataFrame({\"Sex\": [\"Female\", \"Male\"],\n",
    "                          \"Number of Cases\": by_gender_count,\n",
    "                          \"Number of Deaths\":by_gender_death,\n",
    "                          \"Total Deaths (%)\":total_pct_deaths})\n",
    "sex_ratio_df"
   ]
  },
  {
   "cell_type": "code",
   "execution_count": null,
   "metadata": {},
   "outputs": [],
   "source": [
    "male_female_radio = (total_pct_deaths[1]/total_pct_deaths[0]).round(1)\n",
    "print(f'Men have {male_female_radio} chances of dying than women.')\n",
    "print(f'For every 10 deaths among confirmed cases in women, there are {\"{:.0f}\".format(10*male_female_radio)} death in men.')\n",
    "\n",
    "### Possible Risk Factors  \n",
    "\n",
    "# Pie plot showing the distribution of male versus female deaths by COVID-19 Cases with underlying medical conditions\n",
    "\n",
    "# Create Labels for the sections of the pie\n",
    "labels = gender_df[\"Sex\"]\n",
    "distribution = gender_df[\"Share of Death with underlying condition (%)\"]\n",
    "\n",
    "# Pie plot using pyplot\n",
    "plt.pie(distribution, labels=labels, colors = ['green', 'blue'],explode = (0.1, 0), autopct=\"%1.1f%%\",shadow=True, startangle=90 )\n",
    "\n",
    "#Formatting\n",
    "plt.title(\"U.S. COVID-19 Deaths with Underlying Medical Condition by Sex\")\n",
    "\n",
    "plt.savefig('Images/US_Covid_deaths_with_medcond_by_sex.png')\n",
    "plt.show()"
   ]
  },
  {
   "cell_type": "markdown",
   "metadata": {},
   "source": [
    "A pie plot of deaths related to people with underlying medical conditions was generated to understand the possible risk factor of why more men are dying due to COVID-19. The result shows that the percentage of female and male remains the same as the pie plot “U.S. Covid-19 deaths by sex” shown previously indicating that underlying condition does not change the odds of men dying from COVID-19 over women."
   ]
  },
  {
   "cell_type": "code",
   "execution_count": null,
   "metadata": {},
   "outputs": [],
   "source": [
    "# Calculating the distribution of male versus female deaths by COVID-19 Cases base on age groups\n",
    "\n",
    "# Number of death in womens by age groups\n",
    "woman_death = clean_data_df[((clean_data_df['sex'] == 0) & (clean_data_df['death_yn'] == 1.0))]\n",
    "woman_age_group_deaths = woman_death.groupby([\"age_group\"]).count()[\"death_yn\"]\n",
    "\n",
    "# Number of death in male by age group \n",
    "men_death = clean_data_df[((clean_data_df['sex'] == 1.0) & (clean_data_df['death_yn'] == 1.0))]\n",
    "men_age_group_deaths = men_death.groupby([\"age_group\"]).count()[\"death_yn\"]\n",
    "men_age_group_deaths\n",
    "\n",
    "# Bar plot showing the distribution of male versus female deaths by COVID-19 Cases base on age groups\n",
    "\n",
    "labels = ['0 - 9 Years', '10 - 19 Years', '20 - 29 Years', '30 - 39 Years',\n",
    "        '40 - 49 Years', '50 - 59 Years', '60 - 69 Years', '70 - 79 Years', '80+ Years']\n",
    "y = woman_age_group_deaths\n",
    "y1 = men_age_group_deaths\n",
    "\n",
    "x = np.arange(len(labels))  # the label locations\n",
    "width = 0.35  # the width of the bars\n",
    "\n",
    "fig, ax = plt.subplots(figsize = (15,8))\n",
    "rects1 = ax.bar(x - width/2, y, width, label='Female', color='g')\n",
    "rects2 = ax.bar(x + width/2, y1, width, label='Male', color='b')\n",
    "ax.set_xlabel('Age Group')\n",
    "ax.set_ylabel('Number of Deaths')\n",
    "ax.set_title('U.S. COVID-19 Deaths by Sex and Age Group')\n",
    "ax.set_xticks(x)\n",
    "ax.set_xticklabels(labels, rotation='vertical')\n",
    "ax.legend()\n",
    "fig.tight_layout()\n",
    "\n",
    "plt.savefig('Images/US_Covid_deaths_by_sex_and_age.png')\n",
    "plt.show()"
   ]
  },
  {
   "cell_type": "markdown",
   "metadata": {},
   "source": [
    "Another factor taken into consideration in this analysis was the age group associated with U.S Covid-19 deaths. The bar plot shows the distribution of number of deaths in males and females vs the age groups. The result shows a consistent higher percentage of male dying compared to women (excluding age 80+ age group) and it is more pronounced between males of age groups 60 to 79 years. In the 80+ years group, the relationship changes (more females dying over male) but research studies from other countries show a consistent higher percentage of male dying compared to women in all age groups. This bias in the data is related to women living six years longer than men on average, meaning that there are more elderly women in the vulnerable population than men."
   ]
  },
  {
   "cell_type": "markdown",
   "metadata": {},
   "source": [
    "### Are people with underlying health conditions at a higher risk of having serious symptoms of COVID-19?"
   ]
  },
  {
   "cell_type": "code",
   "execution_count": null,
   "metadata": {},
   "outputs": [],
   "source": [
    "## Are people with underlying health conditions at higher risk of serious symptoms of COVID-19?\n",
    "\n",
    "clean_data_df = df\n",
    "\n",
    "# Calculate the distribution of COVID-19 Cases with underlying health conditions.\n",
    "total_cases= len(clean_data_df['medcond_yn'])\n",
    "med_cond_count=clean_data_df[\"medcond_yn\"].value_counts()\n",
    "med_cond_pct = (100*(med_cond_count/total_cases)).round(2)\n",
    "\n",
    "# Calculate the distribution with underlying health conditions deaths by COVID-19\n",
    "death = clean_data_df[(clean_data_df['death_yn'] == 1.0)]\n",
    "total_death = len(death['death_yn'])\n",
    "med_cond_death=death[\"medcond_yn\"].value_counts()\n",
    "med_cond_death_share = (100*(med_cond_death/total_death)).round(2)\n",
    "med_cond_death_pct = (100*(med_cond_death/total_cases)).round(2)\n",
    "\n",
    "# Calculate the distribution hospitalization with underlying medical conditions by COVID-19\n",
    "hospitalization = clean_data_df[(clean_data_df['hosp_yn'] == 1.0)]\n",
    "total_hospitalization = len(hospitalization['hosp_yn'])\n",
    "med_cond_hospitalization=hospitalization[\"medcond_yn\"].value_counts()\n",
    "med_cond_hospitalization_share = (100*(med_cond_hospitalization/total_hospitalization)).round(2)\n",
    "med_cond_hospitalization_pct = (100*(med_cond_hospitalization/total_cases)).round(2)\n",
    "\n",
    "# Calculate the distribution ICU admission with underlying medical conditions by COVID-19\n",
    "icu = clean_data_df[(clean_data_df['icu_yn'] == 1.0)]\n",
    "total_icu = len(icu['icu_yn'])\n",
    "med_cond_icu=icu[\"medcond_yn\"].value_counts()\n",
    "med_cond_icu_share = (100*(med_cond_icu/total_icu)).round(2)\n",
    "med_cond_icu_pct = (100*(med_cond_icu/total_cases)).round(2)\n",
    "\n",
    "# Assemble the resulting series into a single summary dataframe.\n",
    "med_cond_df = pd.DataFrame({\"Medical Condition\": [\"Yes\", \"No\"],\n",
    "                          \"Number of Cases\": med_cond_count,\n",
    "                          \"Cases (%)\": med_cond_pct,\n",
    "                          \"Number of Hospitalizations\": med_cond_hospitalization,\n",
    "                          \"Share of Hospitalizations (%)\": med_cond_hospitalization_share,\n",
    "                          \"Hospitalizations (%)\": med_cond_hospitalization_pct, \n",
    "                          \"Number of ICU Admissions\": med_cond_icu,\n",
    "                          \"Share of ICU Admissions (%)\": med_cond_icu_share,\n",
    "                          \"ICU Admissions (%)\": med_cond_icu_pct,\n",
    "                          \"Number of Deaths\": med_cond_death,\n",
    "                          \"Share of Death (%)\": med_cond_death_share,\n",
    "                          \"Death (%)\": med_cond_death_pct})\n",
    "med_cond_df"
   ]
  },
  {
   "cell_type": "code",
   "execution_count": null,
   "metadata": {},
   "outputs": [],
   "source": [
    "### Plots of distribution of COVID-19 Cases by shares with and without underlying health conditions.\n",
    "\n",
    "# Pie plot showing the distribution of COVID-19 Cases with and without underlying health conditions\n",
    "\n",
    "# Create Labels for the sections of the pie\n",
    "labels = [\"With Underlying Medical Condition\",\"Without Underlying Medical Condition\" ]\n",
    "distribution = med_cond_df[\"Cases (%)\"]\n",
    "\n",
    "# Pie plot using pyplot\n",
    "plt.pie(distribution, labels=labels, colors = ['orange', 'blue'],explode = (0.1, 0), autopct=\"%1.1f%%\",shadow=True, startangle=90 )\n",
    "\n",
    "#Formatting\n",
    "plt.title(\"U.S. COVID-19 Cases with underlying health conditions\")\n",
    "\n",
    "plt.savefig('Images/US_Covid_cases_with_medcond.png')\n",
    "plt.show()\n",
    "\n",
    "# Pie plot showing the distribution of COVID-19 Hospitalizations with and without underlying health conditions\n",
    "\n",
    "# Create Labels for the sections of the pie\n",
    "labels = [\"With Underlying Medical Condition\",\"Without Underlying Medical Condition\" ]\n",
    "distribution = med_cond_df[\"Share of Hospitalizations (%)\"]\n",
    "\n",
    "# Pie plot using pyplot\n",
    "plt.pie(distribution, labels=labels, colors = ['orange', 'blue'],explode = (0.05, 0), autopct=\"%1.1f%%\",shadow=True, startangle=90 )\n",
    "\n",
    "#Formatting\n",
    "plt.title(\"U.S. COVID-19 Hospitalizations with underlying health conditions\")\n",
    "\n",
    "plt.savefig('Images/US_Covid_hospitalizations_with_medcond.png')\n",
    "plt.show()"
   ]
  },
  {
   "cell_type": "code",
   "execution_count": null,
   "metadata": {},
   "outputs": [],
   "source": [
    "# Pie plot showing the distribution of COVID-19 ICU admissions with and without underlying health conditions\n",
    "\n",
    "# Create Labels for the sections of the pie\n",
    "labels = [\"With Underlying Medical Condition\",\"Without Underlying Medical Condition\" ]\n",
    "distribution = med_cond_df[\"Share of ICU Admissions (%)\"]\n",
    "\n",
    "# Pie plot using pyplot\n",
    "plt.pie(distribution, labels=labels, colors = ['orange', 'blue'],explode = (0.05, 0), autopct=\"%1.1f%%\",shadow=True, startangle=90 )\n",
    "\n",
    "#Formatting\n",
    "plt.title(\"U.S. COVID-19 ICU admissions with underlying health conditions\")\n",
    "\n",
    "plt.savefig('Images/US_Covid_ICU_with_medcond.png')\n",
    "plt.show()"
   ]
  },
  {
   "cell_type": "code",
   "execution_count": null,
   "metadata": {},
   "outputs": [],
   "source": [
    "# Pie plot showing the distribution of COVID-19 Deaths with and without underlying health conditions\n",
    "\n",
    "# Create Labels for the sections of the pie\n",
    "labels = [\"With Underlying Medical Condition\",\"Without Underlying Medical Condition\" ]\n",
    "distribution = med_cond_df[\"Share of Death (%)\"]\n",
    "\n",
    "# Pie plot using pyplot\n",
    "plt.pie(distribution, labels=labels, colors = ['orange', 'blue'],explode = (0.05, 0), autopct=\"%1.1f%%\",shadow=True, startangle=90 )\n",
    "\n",
    "#Formatting\n",
    "plt.title(\"U.S. COVID-19 Deaths with underlying health conditions\")\n",
    "\n",
    "plt.savefig('Images/US_Covid_deaths_with_medcond.png')\n",
    "plt.show()"
   ]
  },
  {
   "cell_type": "code",
   "execution_count": null,
   "metadata": {},
   "outputs": [],
   "source": [
    "### Bar plot of distribution of COVID-19 Risk with underlying health conditions.\n",
    "\n",
    "# Bar plot showing the distribution of COVID-19 Cases with underlying health conditions.\n",
    "\n",
    "labels = ['Underlying health conditions', 'No underlying health conditions']\n",
    "y1 = med_cond_hospitalization_pct\n",
    "y2 = med_cond_icu_pct\n",
    "y3 = med_cond_death_pct\n",
    "\n",
    "x = np.arange(len(labels))  # the label locations\n",
    "width = 0.2\n",
    "\n",
    "\n",
    "fig, ax = plt.subplots()\n",
    "rects2 = ax.bar(x - width, y1, width, label='Hospitalization', color='b')\n",
    "rects3 = ax.bar(x , y2, width, label='ICU admission', color='y')\n",
    "rects4 = ax.bar(x + width, y3, width, label='Death', color='r')\n",
    "ax.set_ylabel('% of group')\n",
    "ax.set_title('U.S. COVID-19 Distribution of Cases with underlying health conditions')\n",
    "ax.set_xticks(x)\n",
    "ax.set_xticklabels(labels, rotation='horizontal')\n",
    "ax.legend()\n",
    "\n",
    "plt.savefig('Images/US_Covid_distribution_of_cases_with_medcond.png')\n",
    "plt.show()"
   ]
  },
  {
   "cell_type": "markdown",
   "metadata": {},
   "source": [
    "A bar plot was generated to show the distribution of percentages of hospitalizations, ICU admissions and death for people with and without underlying medical conditions. The objective of this plot is to further interrogate the data and try to understand if people with underlying health conditions are at higher risk of serious symptoms of COVID-19. The results clearly show a higher risk of getting hospitalized, admitted to the ICU unit or fatalities in people with underlying medical conditions."
   ]
  },
  {
   "cell_type": "code",
   "execution_count": null,
   "metadata": {},
   "outputs": [],
   "source": [
    "###  Risk Rate Ratio of COVID-19 Cases with underlying health conditions.\n",
    "\n",
    "# Hospitalization risk ratio\n",
    "hospitalization_radio = (med_cond_hospitalization_pct[1]/med_cond_hospitalization_pct[0]).round(1)\n",
    "print(f'COVID-19 patients with an underlying medical condition are {hospitalization_radio} times as likely to be hospitalized.')\n",
    "\n",
    "# ICU admission risk ratio\n",
    "ICU_radio = (med_cond_icu_pct[1]/med_cond_icu_pct[0]).round(1)\n",
    "print(f'COVID-19 patients with an underlying medical condition are {ICU_radio} times as likely to be ICU admitted.')\n",
    "\n",
    "# Death risk ratio\n",
    "death_radio = (med_cond_death_pct[1]/med_cond_death_pct[0]).round(1)\n",
    "print(f'COVID-19 patients with an underlying medical condition are {ICU_radio} times as likely to die.')"
   ]
  },
  {
   "cell_type": "code",
   "execution_count": null,
   "metadata": {},
   "outputs": [],
   "source": [
    "### Conditions contributing to deaths involving coronavirus disease 2019 (COVID-19) in U.S.\n",
    "\n",
    "# Import the data from Centers for Disease Control and Prevention\n",
    "med_condition_df = pd.read_csv('http://data.cdc.gov/api/views/hk9y-quqm/rows.csv?accessType=DOWNLOAD')\n",
    "\n",
    "# Data conditioning\n",
    "med_condition_df = med_condition_df.replace('COVID-19', 0)\n",
    "indexNames = med_condition_df[med_condition_df['Condition Group'] == 0 ].index\n",
    "med_condition_df.drop(indexNames , inplace=True)\n",
    "\n",
    "# Conditions contributing to deaths involving coronavirus disease 2019 (COVID-19) in U.S. \n",
    "med_condition_df"
   ]
  },
  {
   "cell_type": "code",
   "execution_count": null,
   "metadata": {},
   "outputs": [],
   "source": [
    "# Save clean dataframe\n",
    "med_condition_df.to_csv('./Data/preexisten_med_conditions_data.csv', index=False)\n",
    "\n",
    "# Medical Condition data frame\n",
    "drop_columns = med_condition_df.drop(columns=['Data as of','Start Week', 'End Week','State', 'ICD10_codes', 'Age Group', 'Number of Mentions', 'Flag'])\n",
    "drop_columns\n",
    "\n",
    "condition_df = pd.DataFrame(drop_columns.groupby([\"Condition Group\"]).count())\n",
    "condition_df.columns = [\"Total Count\", \"Total Deaths\"]\n",
    "condition_df = condition_df.sort_values(by='Total Count', ascending=False)\n",
    "\n",
    "# Calculate percentage\n",
    "condition_df[\"Condition Percentage (%)\"] = (100*(condition_df[\"Total Count\"]/condition_df[\"Total Count\"].sum())).round(2)\n",
    "\n",
    "condition_df"
   ]
  },
  {
   "cell_type": "code",
   "execution_count": null,
   "metadata": {},
   "outputs": [],
   "source": [
    "# Pie plot showing conditions contributing to deaths involving coronavirus disease 2019 (COVID-19) in U.S. \n",
    "\n",
    "# Create Labels for the sections of the pie\n",
    "labels = condition_df.index\n",
    "condition = condition_df['Condition Percentage (%)']\n",
    "explode = (0.05, 0.05, 0, 0, 0, 0, 0, 0, 0, 0, 0)\n",
    "\n",
    "# Pie plot using pyplot\n",
    "fig1, ax1 = plt.subplots(figsize=(8, 8))\n",
    "ax1.pie(condition, explode=explode, labels=labels , autopct='%1.1f%%', shadow=True)\n",
    "ax1.axis('equal')  \n",
    "\n",
    "#Formatting\n",
    "plt.title(\"Conditions contributing to deaths involving coronavirus disease 2019 (COVID-19) in U.S.\")\n",
    "\n",
    "plt.savefig('Images/US_Covid_med_conditions_contributing_death.png')\n",
    "plt.show()"
   ]
  },
  {
   "cell_type": "markdown",
   "metadata": {},
   "source": [
    "The pie plot shows the primary health conditions contributing to deaths associated with COVID-19 disease in the U.S."
   ]
  },
  {
   "cell_type": "markdown",
   "metadata": {},
   "source": [
    "## Ethnicity"
   ]
  },
  {
   "cell_type": "code",
   "execution_count": null,
   "metadata": {},
   "outputs": [],
   "source": [
    "#importing the csv file\n",
    "file = pd.read_csv('./Data/clean_data.csv')\n",
    "file.head()"
   ]
  },
  {
   "cell_type": "code",
   "execution_count": null,
   "metadata": {},
   "outputs": [],
   "source": [
    "#organizing different enthnicities by month\n",
    "\n",
    "dates = file[['month','race_ethnicity_combined',\"death_yn\"]]\n",
    "\n",
    "total_cases_by_month = dates.groupby(['month','race_ethnicity_combined']).count()\n",
    "total_cases_by_month"
   ]
  },
  {
   "cell_type": "code",
   "execution_count": null,
   "metadata": {},
   "outputs": [],
   "source": [
    "#pulling out just the deaths\n",
    "deaths = dates.groupby(dates[\"month\"]).sum()\n",
    "deaths"
   ]
  },
  {
   "cell_type": "code",
   "execution_count": null,
   "metadata": {},
   "outputs": [],
   "source": [
    "#getting the deaths of different races\n",
    "ethnicity = dates.groupby([dates['month'],dates['race_ethnicity_combined']]).sum()\n",
    "#getting the total cases of different races\n",
    "ethnic_story = dates.groupby([dates['month'],dates['race_ethnicity_combined']]).count()\n",
    "ethnic_story = ethnic_story.unstack()\n",
    "ethnicity = ethnicity.unstack()\n",
    "ethnicity"
   ]
  },
  {
   "cell_type": "code",
   "execution_count": null,
   "metadata": {},
   "outputs": [],
   "source": [
    "#organizing data into pie charts\n",
    "pie_chart = file.groupby(\"race_ethnicity_combined\")[\"death_yn\"].sum()\n",
    "cases = file.groupby(\"race_ethnicity_combined\")[\"death_yn\"].count()\n",
    "#pie_chart\n",
    "cases"
   ]
  },
  {
   "cell_type": "code",
   "execution_count": null,
   "metadata": {},
   "outputs": [],
   "source": [
    "#plotting the pie chart\n",
    "plot = pie_chart.plot.pie(y=pie_chart[1], autopct='%.2f',title=\"Covid Deaths of Different Races\")"
   ]
  },
  {
   "cell_type": "code",
   "execution_count": null,
   "metadata": {},
   "outputs": [],
   "source": [
    "#displaying the percentage of total cases by ethnicity\n",
    "plot = cases.plot.pie(y=pie_chart[1], autopct=\"%.2f\", title=\"Total Cases of Different Ethnicities\")"
   ]
  },
  {
   "cell_type": "code",
   "execution_count": null,
   "metadata": {},
   "outputs": [],
   "source": [
    "#building a bar graph of the cases and deaths to compare percentages\n",
    "bar_df = pd.DataFrame(pie_chart)\n",
    "bar_df['total cases'] = cases\n",
    "bar_df"
   ]
  },
  {
   "cell_type": "code",
   "execution_count": null,
   "metadata": {},
   "outputs": [],
   "source": [
    "#displaying the bar graph\n",
    "bar_graph = bar_df.plot.bar(figsize=(15,8))"
   ]
  },
  {
   "cell_type": "code",
   "execution_count": null,
   "metadata": {},
   "outputs": [],
   "source": [
    "#survival rate of cases vs deaths for Asian people\n",
    "pie_chart_asian = [bar_df['death_yn']['Asian'],\n",
    "                   (bar_df['total cases']['Asian']-bar_df['death_yn']['Asian'])]\n",
    "pie_chart_asian\n",
    "\n",
    "plt.title(\"Deaths of Asians\")\n",
    "chart = plt.pie(pie_chart_asian,autopct='%.2f')"
   ]
  },
  {
   "cell_type": "code",
   "execution_count": null,
   "metadata": {},
   "outputs": [],
   "source": [
    "#survival rate of Black people\n",
    "pie_chart_black = [bar_df['death_yn']['Black'],\n",
    "                   (bar_df['total cases']['Black']-bar_df['death_yn']['Black'])]\n",
    "pie_chart_black\n",
    "plt.title(\"Deaths of Black People\")\n",
    "chart = plt.pie(pie_chart_black,autopct='%.2f')"
   ]
  },
  {
   "cell_type": "code",
   "execution_count": null,
   "metadata": {},
   "outputs": [],
   "source": [
    "#survival rate of Hispanic people\n",
    "pie_chart_hisp = [bar_df['death_yn']['Hispanic'],\n",
    "                   (bar_df['total cases']['Hispanic']-bar_df['death_yn']['Hispanic'])]\n",
    "pie_chart_hisp\n",
    "plt.title('Deaths of Hispanic People')\n",
    "chart = plt.pie(pie_chart_hisp,autopct='%.2f')"
   ]
  },
  {
   "cell_type": "code",
   "execution_count": null,
   "metadata": {},
   "outputs": [],
   "source": [
    "#survival rate of Native American people\n",
    "pie_chart_native = [bar_df['death_yn']['Native'],\n",
    "                   (bar_df['total cases']['Native']-bar_df['death_yn']['Native'])]\n",
    "pie_chart_native\n",
    "plt.title('Deaths of Native Americans')\n",
    "chart = plt.pie(pie_chart_native,autopct='%.2f')"
   ]
  },
  {
   "cell_type": "code",
   "execution_count": null,
   "metadata": {},
   "outputs": [],
   "source": [
    "#survival rate of the group of people of other ethnicity\n",
    "pie_chart_other = [bar_df['death_yn']['Other'],\n",
    "                   (bar_df['total cases']['Other']-bar_df['death_yn']['Other'])]\n",
    "pie_chart_other\n",
    "plt.title(\"Deaths of Other Races\")\n",
    "chart = plt.pie(pie_chart_other,autopct='%.2f')"
   ]
  },
  {
   "cell_type": "code",
   "execution_count": null,
   "metadata": {},
   "outputs": [],
   "source": [
    "#suvival rate of Pacific Islander people\n",
    "pie_chart_pac = [bar_df['death_yn']['Pacific Islander'],\n",
    "                   (bar_df['total cases']['Pacific Islander']-bar_df['death_yn']['Pacific Islander'])]\n",
    "pie_chart_pac\n",
    "plt.title(\"Deaths of Pacific Islanders\")\n",
    "chart = plt.pie(pie_chart_pac,autopct='%.2f')"
   ]
  },
  {
   "cell_type": "code",
   "execution_count": null,
   "metadata": {},
   "outputs": [],
   "source": [
    "#survival rate of White people\n",
    "pie_chart_white = [bar_df['death_yn']['White'],\n",
    "                   (bar_df['total cases']['White']-bar_df['death_yn']['White'])]\n",
    "pie_chart_white\n",
    "plt.title(\"Deaths of White People\")\n",
    "chart = plt.pie(pie_chart_white,autopct='%.2f')"
   ]
  },
  {
   "cell_type": "markdown",
   "metadata": {},
   "source": [
    "### Going through all the pie charts there are some interesting notes to take.\n",
    "The deaths of Pacific Islanders in our data set are only 4.19% of the cases of Pacific Islanders.\n",
    "White people, Hispanic people, and other races have a ~5-7% death rate in this data set, but native Americans and black people have a relatively high death rate of around 10%. This could be due to access to proper healthcare, but that wouldn't explain why hispanic people die less often than white people when white people more frequently have health insurance(1).\n",
    "Perhaps hispanic people have different a different reaction to Covid-19 than other races, or perhaps culturally they treat their sick ones differently than other races.\n",
    "\n",
    "1: https://www.statista.com/statistics/200970/percentage-of-americans-without-health-insurance-by-race-ethnicity/"
   ]
  },
  {
   "cell_type": "code",
   "execution_count": null,
   "metadata": {},
   "outputs": [],
   "source": [
    "#building a dataframe of months and different races deaths\n",
    "#which I already did in my other file\n",
    "time=file[['race_ethnicity_combined','month','death_yn']]"
   ]
  },
  {
   "cell_type": "code",
   "execution_count": null,
   "metadata": {},
   "outputs": [],
   "source": [
    "#putting together a dataframe of \n",
    "#information from the census and my findings\n",
    "population_info = {\"Ethnicity\":['White','Hispanic','Black','Asian','Native American','Pacific Islander','Other'],\n",
    "                  'Total Population':[200226109,60724311,43984096,12366132,4267114,656479,1969437],\n",
    "                  'Percentage of US Population':[60.1,18.5,13.4,5.9,1.3,0.2,0.6],\n",
    "                  'Percentage of Total Cases':[59.65,21.35,12.15,2.95,0.36,0.56,np.nan],\n",
    "                  'Percentage of Total Deaths':[55.82,16.01,20.03,4.29,0.51,0.36,np.nan],\n",
    "                  'Percentage of Ethnicity Reporting Covid':[0.136,0.16,0.126,0.0697,0.0385,0.062,np.nan]}\n",
    "population_df = pd.DataFrame(population_info)\n",
    "population_df"
   ]
  },
  {
   "cell_type": "markdown",
   "metadata": {},
   "source": [
    "# Percentages of populations\n",
    "In this chart I wanted to collate some data I found both in my research and from the census. Since I noticed that hispanic people tend to survive more often I wanted to actually dig into the numbers a little bit. Here you can see that while hispanic people only account for 18.5% of the total US population, they had 21.35% of the cases of covid in our data set. Interestingly, they only have 16.01% of the deaths in our data set. Which is a lower percentage than that of their respective part of the total US population. So what we're seeing here is that hispanic people are suviving more than other races, despite being less insured.\n",
    "\n",
    "Interestingly, Asian people have presumably been much more responsible about social distancing, as their percentage of the total cases is about half of their percentage of the total US population. \n",
    "\n",
    "Black people have been hit the hardest, with 20% of the total deaths from covid, while only making up 13.4% of the total population.\n",
    "\n",
    "1: https://www.census.gov/quickfacts/fact/table/US/RHI725219"
   ]
  },
  {
   "cell_type": "code",
   "execution_count": null,
   "metadata": {},
   "outputs": [],
   "source": [
    "#building new dataframe for gender and race\n",
    "genders = file[['sex','race_ethnicity_combined',\"death_yn\"]]\n",
    "#getting the deaths of different races\n",
    "ethnicity_gender = genders.groupby([genders['sex'],genders['race_ethnicity_combined']]).sum()\n",
    "#getting the total cases of different races\n",
    "ethnic_gender = genders.groupby([genders['sex'],genders['race_ethnicity_combined']]).count()\n",
    "ethnic_gender = ethnic_gender.unstack()\n",
    "ethnicity_with_gender = ethnicity_gender.unstack()\n",
    "ethnicity_with_gender"
   ]
  },
  {
   "cell_type": "code",
   "execution_count": null,
   "metadata": {},
   "outputs": [],
   "source": [
    "#displaying deaths of each gender of White people\n",
    "white_genders = ethnicity_with_gender['death_yn']['White']\n",
    "plt.title(\"Deaths of White Men vs Women\")\n",
    "\n",
    "chart = plt.pie(white_genders,autopct='%.2f',labels=(\"Women\",\"Men\"))"
   ]
  },
  {
   "cell_type": "code",
   "execution_count": null,
   "metadata": {},
   "outputs": [],
   "source": [
    "#displaying deaths of each gender of Black people\n",
    "black_genders = ethnicity_with_gender['death_yn']['Black']\n",
    "plt.title(\"Deaths of Black Men and Women\")\n",
    "chart = plt.pie(black_genders,autopct='%.2f',labels=(\"Women\",\"Men\"))"
   ]
  },
  {
   "cell_type": "code",
   "execution_count": null,
   "metadata": {},
   "outputs": [],
   "source": [
    "#displaying deaths of each gender of Hispanic people\n",
    "hispanic_genders = ethnicity_with_gender['death_yn']['Hispanic']\n",
    "plt.title(\"Deaths of Hispanic Men and Women\")\n",
    "chart = plt.pie(hispanic_genders,autopct='%.2f',labels=(\"Women\",\"Men\"))"
   ]
  },
  {
   "cell_type": "code",
   "execution_count": null,
   "metadata": {},
   "outputs": [],
   "source": [
    "#displaying deaths of each gender of Asian people\n",
    "asian_genders = ethnicity_with_gender['death_yn']['Asian']\n",
    "plt.title(\"Deaths of Asian Men and Women\")\n",
    "chart = plt.pie(asian_genders,autopct='%.2f',labels=(\"Women\",\"Men\"))"
   ]
  },
  {
   "cell_type": "code",
   "execution_count": null,
   "metadata": {},
   "outputs": [],
   "source": [
    "#displaying deaths of each gender of Native American people\n",
    "native_genders = ethnicity_with_gender['death_yn']['Native']\n",
    "plt.title(\"Deaths of Native American Men and Women\")\n",
    "chart = plt.pie(native_genders,autopct='%.2f',labels=(\"Women\",\"Men\"))"
   ]
  },
  {
   "cell_type": "code",
   "execution_count": null,
   "metadata": {},
   "outputs": [],
   "source": [
    "#displaying deaths of each gender of the other races\n",
    "other_genders = ethnicity_with_gender['death_yn']['Other']\n",
    "plt.title(\"Deaths of Other Men and Women\")\n",
    "chart = plt.pie(other_genders,autopct='%.2f',labels=(\"Women\",\"Men\"))"
   ]
  },
  {
   "cell_type": "code",
   "execution_count": null,
   "metadata": {},
   "outputs": [],
   "source": [
    "#displaying deaths of each gender of Pacific Islander people\n",
    "pac_genders = ethnicity_with_gender['death_yn']['Pacific Islander']\n",
    "plt.title(\"Deaths of Pacific Islander Men and Women\")\n",
    "chart = plt.pie(pac_genders,autopct='%.2f',labels=(\"Women\",\"Men\"))"
   ]
  },
  {
   "cell_type": "markdown",
   "metadata": {},
   "source": [
    "### Some interesting things to note here.\n",
    "White people and black people are pretty similar, with women being 60% more likely to survive than men. Pacific Islanders and hispanic people have vastly differing numbers, with women surviving around 70% more than men. This may be related to the fact that a higher percentage of women stay home than men, who tend to be more employed(1). This could also be cultural, especially the difference with Asian women vs men, as only 6.5% of Asian women are employed as of 2019(2).\n",
    "\n",
    "1: https://work.chron.com/male-vs-female-statistics-workplace-america-23880.html\n",
    "\n",
    "2: https://www.bls.gov/cps/cpsaat11.htm"
   ]
  },
  {
   "cell_type": "code",
   "execution_count": null,
   "metadata": {},
   "outputs": [],
   "source": [
    "#building dataframe for race with co-morbidity\n",
    "#building new dataframe for co-morbidity and race\n",
    "med = file[['medcond_yn','race_ethnicity_combined',\"death_yn\"]]\n",
    "#getting the deaths of different races\n",
    "ethnicity_med = med.groupby([med['medcond_yn'],med['race_ethnicity_combined']]).sum()\n",
    "#getting the total cases of different races\n",
    "ethnic_med = med.groupby([med['medcond_yn'],med['race_ethnicity_combined']]).count()\n",
    "ethnic_med = ethnic_med.unstack()\n",
    "ethnicity_with_med = ethnicity_med.unstack()\n",
    "ethnic_med"
   ]
  },
  {
   "cell_type": "code",
   "execution_count": null,
   "metadata": {},
   "outputs": [],
   "source": [
    "#these are the deaths of each race and\n",
    "#whether or not they had pre-existing conditions\n",
    "ethnicity_with_med"
   ]
  },
  {
   "cell_type": "code",
   "execution_count": null,
   "metadata": {},
   "outputs": [],
   "source": [
    "#survival rate of Pacific Islanders with\n",
    "#a pre-existing medical condition\n",
    "pac_med = ethnicity_with_med['death_yn']['Pacific Islander']\n",
    "plt.title(\"Deaths of Pacific Islanders with a Pre-existing Condition\")\n",
    "chart = plt.pie(pac_med,autopct='%.2f',labels=(\"Survivors\",\"Deaths\"))"
   ]
  },
  {
   "cell_type": "code",
   "execution_count": null,
   "metadata": {},
   "outputs": [],
   "source": [
    "#survival rate of Black people with\n",
    "#a pre-existing medical condition\n",
    "black_med = ethnicity_with_med['death_yn']['Black']\n",
    "plt.title(\"Deaths of Black People with a Pre-existing Condition\")\n",
    "chart = plt.pie(black_med,autopct='%.2f',labels=(\"Survivors\",\"Deaths\"))"
   ]
  },
  {
   "cell_type": "code",
   "execution_count": null,
   "metadata": {},
   "outputs": [],
   "source": [
    "#survival rate of White people with\n",
    "#a pre-existing medical condition\n",
    "white_med = ethnicity_with_med['death_yn']['White']\n",
    "plt.title(\"Deaths of White People with a Pre-existing Condition\")\n",
    "chart = plt.pie(white_med,autopct='%.2f',labels=(\"Survivors\",\"Deaths\"))"
   ]
  },
  {
   "cell_type": "code",
   "execution_count": null,
   "metadata": {},
   "outputs": [],
   "source": [
    "#survival rate of Hispanic pople with\n",
    "#a pre-existing medical condition\n",
    "hispanic_med = ethnicity_with_med['death_yn']['Hispanic']\n",
    "plt.title(\"Deaths of Hispanic People with a Pre-existing Condition\")\n",
    "chart = plt.pie(hispanic_med,autopct='%.2f',labels=(\"Survivors\",\"Deaths\"))"
   ]
  },
  {
   "cell_type": "code",
   "execution_count": null,
   "metadata": {},
   "outputs": [],
   "source": [
    "#survival rate of Asian people with\n",
    "#a pre-existing medical condition\n",
    "asian_med = ethnicity_with_med['death_yn']['Asian']\n",
    "plt.title(\"Deaths of Asian People with a Pre-existing Condition\")\n",
    "chart = plt.pie(asian_med,autopct='%.2f',labels=(\"Survivors\",\"Deaths\"))"
   ]
  },
  {
   "cell_type": "code",
   "execution_count": null,
   "metadata": {},
   "outputs": [],
   "source": [
    "#survival rate of Native Americans with\n",
    "#a pre-existing medical condition\n",
    "native_med = ethnicity_with_med['death_yn']['Native']\n",
    "plt.title(\"Deaths of Native Americans with a Pre-existing Condition\")\n",
    "chart = plt.pie(native_med,autopct='%.2f',labels=(\"Survivors\",\"Deaths\"))"
   ]
  },
  {
   "cell_type": "code",
   "execution_count": null,
   "metadata": {},
   "outputs": [],
   "source": [
    "#survival rate of other people with\n",
    "#a pre-existing medical condition\n",
    "other_med = ethnicity_with_med['death_yn']['Other']\n",
    "plt.title(\"Deaths of Other Races with a Pre-existing Condition\")\n",
    "chart = plt.pie(other_med,autopct='%.2f',labels=(\"Survivors\",\"Deaths\"))"
   ]
  },
  {
   "cell_type": "markdown",
   "metadata": {},
   "source": [
    "## Here we see that pre-existing conditions is a MAJOR factor in survivability\n",
    "It's interesting to note that Pacific Islanders with pre-existing conditions have such a higher survival rate than all of the other ethnic groups at 18.92.\n",
    "Unfortunaly, we again see that black people have been hit hard by covid, with only 3.7% survivability with a pre-existing condition.\n",
    "Everybody else has a survivability of around 6-7% with a pre-existing condition."
   ]
  },
  {
   "cell_type": "markdown",
   "metadata": {},
   "source": [
    "## Date of Contraction"
   ]
  },
  {
   "cell_type": "code",
   "execution_count": null,
   "metadata": {},
   "outputs": [],
   "source": [
    "#grouping the dataframe to compare time of first positive specimen with the age group\n",
    "dates = file[['month','death_yn','age_group']]\n",
    "\n",
    "#getting number of deaths\n",
    "deaths = dates.groupby([dates['month'],dates['age_group']]).sum()\n",
    "deaths = deaths.unstack()\n",
    "deaths.head()"
   ]
  },
  {
   "cell_type": "code",
   "execution_count": null,
   "metadata": {},
   "outputs": [],
   "source": [
    "#graphing the deaths of each agegroup for each month\n",
    "deaths.plot.bar(stacked=True, figsize = (15,8),\n",
    "                title=\"Deaths of Different Age Groups Over Time\",)"
   ]
  },
  {
   "cell_type": "markdown",
   "metadata": {},
   "source": [
    "### Here we can see that older people are dying with much more frequency than younger people, and that the older a patient is, the more likely they are to die."
   ]
  },
  {
   "cell_type": "code",
   "execution_count": null,
   "metadata": {},
   "outputs": [],
   "source": [
    "#counting the total reported cases in each age group for each month\n",
    "total_cases = dates.groupby([dates['month'],dates['age_group']]).count()\n",
    "total_cases = total_cases.unstack()\n",
    "total_cases = total_cases.rename(columns={\"death_yn\":'cases'})\n",
    "total_cases"
   ]
  },
  {
   "cell_type": "code",
   "execution_count": null,
   "metadata": {},
   "outputs": [],
   "source": [
    "#graphing total cases\n",
    "total_cases.plot.bar(stacked=True, figsize = (15,8),\n",
    "                    title=\"Total Cases Over Time\")"
   ]
  },
  {
   "cell_type": "markdown",
   "metadata": {},
   "source": [
    "### Here we can see that younger people are contracting the disease a lot more frequently than older people.\n",
    "This would likely be due to the social nature of younger people, and the fact that many younger people absolutely need to work to survive. There have been reports(1) about how millenials have much less money saved than other generations had at our age, which would have a prime factor on survivability during lockdown.\n",
    "\n",
    "\n",
    "!: https://www.businessinsider.com/average-american-millennial-net-worth-student-loan-debt-savings-habits-2019-6#and-the-typical-millennial-has-less-than-5000-in-their-savings-account-3"
   ]
  },
  {
   "cell_type": "code",
   "execution_count": null,
   "metadata": {},
   "outputs": [],
   "source": [
    "#grouping dataframe to compare time of first positive with gender\n",
    "gender_dates = file[['month','death_yn','sex']]\n",
    "\n",
    "#getting number of deaths\n",
    "gender_deaths = gender_dates.groupby([gender_dates['month'],gender_dates['sex']]).sum()\n",
    "gender_deaths = gender_deaths.unstack()\n",
    "gender_deaths"
   ]
  },
  {
   "cell_type": "code",
   "execution_count": null,
   "metadata": {},
   "outputs": [],
   "source": [
    "#graphing deaths of each gender by month\n",
    "gender_deaths.plot.bar(stacked=True, figsize = (15,8),\n",
    "                      title=\"Deaths of Different Genders Over Time\")"
   ]
  },
  {
   "cell_type": "markdown",
   "metadata": {},
   "source": [
    "### Here we can see that women tend to survive more often than men, and that over time the balance between the two hasn't really shifted much"
   ]
  },
  {
   "cell_type": "code",
   "execution_count": null,
   "metadata": {},
   "outputs": [],
   "source": [
    "#grouping the dataframe to compare time of first positive specimen with the ethnicity\n",
    "ethnicity_dates = file[['month','death_yn','race_ethnicity_combined']]\n",
    "\n",
    "#getting number of deaths\n",
    "ethnicity_deaths = ethnicity_dates.groupby([ethnicity_dates['month'],ethnicity_dates['race_ethnicity_combined']]).sum()\n",
    "ethnicity_deaths = ethnicity_deaths.unstack()\n",
    "ethnicity_deaths"
   ]
  },
  {
   "cell_type": "code",
   "execution_count": null,
   "metadata": {},
   "outputs": [],
   "source": [
    "#graphing the number of deaths per race\n",
    "ethnicity_deaths.plot.bar(stacked=True, figsize = (15,8),\n",
    "                         title=\"Deaths of Different Ethnicities Over Time\")"
   ]
  },
  {
   "cell_type": "markdown",
   "metadata": {},
   "source": [
    "### Here we can see that the distribution of deaths among different racial groups is mostly white, but that's probably because white people are more than 60% percent of the American population."
   ]
  },
  {
   "cell_type": "code",
   "execution_count": null,
   "metadata": {},
   "outputs": [],
   "source": [
    "#grouping the dataframe to compare time of first positive specimen with the ethnicity\n",
    "ethnicity_dates = file[['month','death_yn','race_ethnicity_combined']]\n",
    "\n",
    "#getting number of cases\n",
    "ethnicity_cases = ethnicity_dates.groupby([ethnicity_dates['month'],ethnicity_dates['race_ethnicity_combined']]).count()\n",
    "ethnicity_cases = ethnicity_cases.unstack()\n",
    "ethnicity_cases = ethnicity_cases.rename(columns={\"death_yn\":'cases'})\n",
    "ethnicity_cases"
   ]
  },
  {
   "cell_type": "code",
   "execution_count": null,
   "metadata": {},
   "outputs": [],
   "source": [
    "#graphing the number of cases per ethnic group\n",
    "ethnicity_cases.plot.bar(stacked=True, figsize = (15,8),\n",
    "                        title=\"Cases of Different Ethnic Groups Over Time\")"
   ]
  },
  {
   "cell_type": "markdown",
   "metadata": {},
   "source": [
    "## Now to see if there's a correlation between hospital occupancy of covid patients and death"
   ]
  },
  {
   "cell_type": "code",
   "execution_count": null,
   "metadata": {},
   "outputs": [],
   "source": [
    "#grouping the dataframe to compare time of first positive specimen with the age group\n",
    "dates = file[['month','death_yn']]\n",
    "#dates\n",
    "#getting number of deaths\n",
    "deaths = dates.groupby('month').sum()\n",
    "# deaths = deaths.unstack()\n",
    "#deaths\n",
    "occupancy = file[['month', 'percent_of_inpatients_with_covid']]\n",
    "occupancy = occupancy.groupby('month').mean()\n",
    "occupancy.index\n",
    "deaths['percent_of_inpatients_with_covid'] = occupancy['percent_of_inpatients_with_covid']\n",
    "deaths"
   ]
  },
  {
   "cell_type": "code",
   "execution_count": null,
   "metadata": {},
   "outputs": [],
   "source": [
    "plt.title(\"Deaths vs Hospital Covid Inpatient Occupancy Percentage\")\n",
    "plt.xlabel(\"Deaths\")\n",
    "plt.ylabel(\"Hospital Covid Inpatient Occupancy Percentage\")\n",
    "plt.scatter(deaths['death_yn'],deaths['percent_of_inpatients_with_covid'])"
   ]
  },
  {
   "cell_type": "code",
   "execution_count": null,
   "metadata": {},
   "outputs": [],
   "source": [
    "correlation = st.pearsonr(deaths['death_yn'],deaths['percent_of_inpatients_with_covid'])\n",
    "correlation"
   ]
  },
  {
   "cell_type": "markdown",
   "metadata": {},
   "source": [
    "### That's a pretty low correlation coefficient\n",
    "Being as that is the case there isn't really a strong correlation between hospital occupancy of covid inpatients and death over the year"
   ]
  },
  {
   "cell_type": "markdown",
   "metadata": {},
   "source": [
    "# Next up, let's look at whether or not the patient was put in ICU, and if that was effective at preventing death over the year"
   ]
  },
  {
   "cell_type": "code",
   "execution_count": null,
   "metadata": {},
   "outputs": [],
   "source": [
    "#grouping the dataframe to compare time of first positive specimen with the age group\n",
    "dates = file[['month','death_yn']]\n",
    "#dates\n",
    "#getting number of deaths\n",
    "deaths = dates.groupby('month').sum()\n",
    "# deaths = deaths.unstack()\n",
    "#deaths\n",
    "occupancy = file[['month', 'icu_yn']]\n",
    "occupancy = occupancy.groupby('month').sum()\n",
    "occupancy.index\n",
    "deaths['icu_yn'] = occupancy['icu_yn']\n",
    "deaths"
   ]
  },
  {
   "cell_type": "code",
   "execution_count": null,
   "metadata": {},
   "outputs": [],
   "source": [
    "deaths.plot.bar(title='Deaths Compared to ICU Occupancy Over Time')"
   ]
  },
  {
   "cell_type": "markdown",
   "metadata": {},
   "source": [
    "### Here we can see that in the early months of the pandemic, there were more deaths than ICU occupants. \n",
    "Especially in June, when there was a surge of cases and deaths. Perhaps over time our medical community learned how to better treat covid patients. It's obvious that people were being sent to the ICU but they maybe just didn't know the signs of when a patient needed to go to the ICU. It appears that as time went on, there were not only less deaths, but higher numbers of patients in the ICU than dying, which would suggest that the treatments being recieved in the ICU are working."
   ]
  },
  {
   "cell_type": "code",
   "execution_count": null,
   "metadata": {},
   "outputs": [],
   "source": []
  },
  {
   "cell_type": "markdown",
   "metadata": {},
   "source": [
    "## Hospital Capacity"
   ]
  },
  {
   "cell_type": "markdown",
   "metadata": {},
   "source": [
    "### Is there a relationship between the COVID-19 admittances /hospital in-patient capacity ratio to COVID mortality rates?"
   ]
  },
  {
   "cell_type": "code",
   "execution_count": null,
   "metadata": {},
   "outputs": [],
   "source": [
    "# Read Data file\n",
    "df = pd.read_csv('./Data/clean_data.csv')\n",
    "\n",
    "# Display header to get a sense of look and feel\n",
    "df.head(2)\n",
    "\n",
    "#Define Month Grouping\n",
    "grp_stats = df.groupby(['month'])\n",
    "\n",
    "grp_stats.count().head(2)"
   ]
  },
  {
   "cell_type": "code",
   "execution_count": null,
   "metadata": {},
   "outputs": [],
   "source": [
    "#Calculate Death & Covid inpatients Stats per month\n",
    "\n",
    "# Sum on Death \n",
    "sum_dth = grp_stats[\"death_yn\"].sum()\n",
    "\n",
    "# Total Population Count\n",
    "totalcnt = grp_stats[\"death_yn\"].count()\n",
    "\n",
    "#Average Percent of deaths\n",
    "pct_dth = sum_dth/totalcnt\n",
    "\n",
    "#Average Covid inpatient percentage\n",
    "covid_inpatient_pct = grp_stats[\"percent_of_inpatients_with_covid\"].mean()\n",
    "\n",
    "\n",
    "#Create a dataframe to enable statistical regression and plotting\n",
    "grp_stats_df = pd.DataFrame({\"In Patient Pct\" : covid_inpatient_pct,\n",
    "                             \"Dth_Rate\" : pct_dth\n",
    "                             })\n",
    "grp_stats_df"
   ]
  },
  {
   "cell_type": "code",
   "execution_count": null,
   "metadata": {},
   "outputs": [],
   "source": [
    "#Set today's date as a variable\n",
    "date = pd.to_datetime(\"today\").strftime(\"%m/%d/%Y\")\n",
    "\n",
    "#Calculate correlation coefficient\n",
    "Correlation_Coef = round(st.pearsonr(grp_stats_df['In Patient Pct'],grp_stats_df['Dth_Rate'])[0],5)\n",
    "Correlation_Coef\n",
    "\n",
    "#Calulate linear formula\n",
    "x_values = grp_stats_df['In Patient Pct']\n",
    "y_values = grp_stats_df['Dth_Rate']\n",
    "\n",
    "(slope, intercept, rvalue, pvalue, stderr) = linregress(x_values, y_values)\n",
    "regress_values = x_values * slope + intercept\n",
    "\n",
    "#Record results in a dataframe\n",
    "linear_formula_Df = pd.DataFrame({\n",
    "    \"Corr Analysis\":\"In Patient Pct vs Dth_Rate\",\n",
    "    \"Slope\":slope,\n",
    "    \"Intercept\":intercept,\n",
    "    \"rValueCorr_Coef\":rvalue,\n",
    "    \"PndasCorr_Coef\":Correlation_Coef,\n",
    "    \"StdErr\":stderr \n",
    "} ,index=[0] )\n",
    "linear_formula_Df"
   ]
  },
  {
   "cell_type": "code",
   "execution_count": null,
   "metadata": {},
   "outputs": [],
   "source": [
    "#Create text for plot overlay\n",
    "line_equation = \"y = \" + str(round(slope,2)) + \"x + \" + str(round(intercept,2))\n",
    "line_equation\n",
    "\n",
    "#Plot the linear regression model on top of the scatter plot\n",
    "\n",
    "# Generate a scatter plot of Max Temp vs. Latitude\n",
    "# Add the linear regreassion and line to the plot\n",
    "\n",
    "#Charactorize figure size/layout                       \n",
    "fig1, ax1 = plt.subplots(figsize=(15, 8))\n",
    "\n",
    "#Build and format scatter plot based on mean values drawn from the clean_weather_data_df dataframe\n",
    "plt.scatter(grp_stats_df['In Patient Pct'],grp_stats_df['Dth_Rate'],s=30, edgecolors='black', color=\"green\")\n",
    "\n",
    "#define title and Lable axis\n",
    "plt.title('In Patient Pct vs Dth_Rate '+date,fontsize =18)\n",
    "plt.xlabel('In Patient Pct',fontsize =16)\n",
    "plt.ylabel('Dth_Rate',fontsize =16)\n",
    "marker_size = 12\n",
    "\n",
    "#Establish plot limits\n",
    "plt.ylim(0, .2)\n",
    "\n",
    "# Add plot and text of linear regression model \n",
    "plt.plot(x_values,regress_values,\"r-\")\n",
    "ax1.annotate(line_equation, xy=(.08, .12), xycoords='data',xytext=(0.25, 0.15), textcoords='axes fraction',\n",
    "             horizontalalignment='right', verticalalignment='top',fontsize=20,color=\"blue\")\n",
    "\n",
    "\n",
    "#Save image for potential reference in the report\n",
    "plt.savefig(\"./Images/Plots/In Patient Pct vs Dth_Rate.png\")\n",
    "\n",
    "plt.show()"
   ]
  },
  {
   "cell_type": "markdown",
   "metadata": {},
   "source": [
    "We performed a regression analysis using our hospitalization data to compare the COVID-19 admittances/hospital capacity ratio to COVID mortality rates to see if it would provide us an indicator to help guide in targeting the most vulnerable population to receive the vaccination. \n",
    "The regression results showed a relatively low correlation coefficient and, as the hospitalization data set otherwise had numerous significant data gaps, we opted not to pursue this further."
   ]
  },
  {
   "cell_type": "markdown",
   "metadata": {},
   "source": [
    "### What trends in mortality rates and COVID Admittances were observed by month? "
   ]
  },
  {
   "cell_type": "code",
   "execution_count": null,
   "metadata": {},
   "outputs": [],
   "source": [
    "# Generate a bar plot showing the inpatient percentage and death rates by month using pandas.\n",
    "\n",
    "#Plot Chart\n",
    "measure_plot = grp_stats_df.plot.bar(figsize=(18,8), color= ['green', 'black'],fontsize = 14)\n",
    "plt.xlabel(\"Months\",fontsize = 16)\n",
    "plt.ylabel(\"Rates and Percentages\",fontsize = 16)\n",
    "plt.title(\"Inpatient Percentage and Death Rates By Month\",fontsize = 18)\n",
    "plt.xticks(rotation=0)\n",
    "\n",
    "\n",
    "#Save image for potential reference in the report\n",
    "plt.savefig(\"./Images/Plots/inpatient_pct_and_dth_rte_plot_by_mnth.png\")\n",
    "\n",
    "plt.show()"
   ]
  },
  {
   "cell_type": "markdown",
   "metadata": {},
   "source": [
    "We found that early on, there was an extremely high mortality rate versus admissions. A declining mortality rate for the remainder of the year  was observed ending with November reporting 1.5%. \n",
    "We noted that even as admissions went up in the latter months (September - November), the mortality rates continued to decline\n",
    "We attribute the early high percentage rates to the low amount of testing and suggest that the latter months of our data may be more reliable for interpretive use as they appear to be more comprehensive."
   ]
  },
  {
   "cell_type": "code",
   "execution_count": null,
   "metadata": {},
   "outputs": [],
   "source": [
    "df = pd.read_csv('./Data/clean_data.csv')\n",
    "\n",
    "# Display header to get a sense of look and feel\n",
    "df.head(2)"
   ]
  },
  {
   "cell_type": "code",
   "execution_count": null,
   "metadata": {},
   "outputs": [],
   "source": [
    "#Define Month Grouping\n",
    "grp_stats = df.groupby(['month'])\n",
    "\n",
    "grp_stats.count().head(2)"
   ]
  },
  {
   "cell_type": "code",
   "execution_count": null,
   "metadata": {},
   "outputs": [],
   "source": [
    "#Calculate Death & Covid inpatients Stats per month\n",
    "\n",
    "# count on number of cases reported\n",
    "cnt_reported = grp_stats[\"cdc_report_dt\"].count()\n",
    "\n",
    "# Total Population Count\n",
    "totalcnt = len(df)\n",
    "\n",
    "# Sum on Death \n",
    "sum_dth = grp_stats[\"death_yn\"].sum()\n",
    "\n",
    "#Death Count per Case Count\n",
    "dth_cnt_per_cs_cnt = sum_dth/cnt_reported\n",
    "\n",
    "#Create month array for plotting\n",
    "month_list = df['month'].unique()\n",
    "month_list.sort()\n",
    "\n",
    "\n",
    "#Create a dataframe to enable statistical regression and plotting\n",
    "grp_stats_df = pd.DataFrame({\"Case Count Reported\" : cnt_reported,\n",
    "                             \"Death Count Reported\" : sum_dth,\n",
    "                             \"Death % of Case Count\" :dth_cnt_per_cs_cnt,                                                     \n",
    "                             })\n",
    "grp_stats_df"
   ]
  },
  {
   "cell_type": "markdown",
   "metadata": {},
   "source": [
    "### What trending in case occurrence was observed by month?"
   ]
  },
  {
   "cell_type": "code",
   "execution_count": null,
   "metadata": {},
   "outputs": [],
   "source": [
    "# Generate a line plot of death rate per recorded case over time\n",
    "\n",
    "#Define plot components\n",
    "x_axis = month_list\n",
    "dth_pct_case_cnt = grp_stats_df[\"Death % of Case Count\"]\n",
    "cse_cnt_rptd = grp_stats_df[\"Case Count Reported\"]\n",
    "\n",
    "\n",
    "#Charactorize figure size/layout                       \n",
    "fig = plt.figure(figsize=(15, 8))\n",
    "\n",
    "#Build and format plot 1\n",
    "ax1 = fig.add_subplot(111)\n",
    "ax1.plot(x_axis, dth_pct_case_cnt, linewidth=2, markersize=12,marker=\"o\",color=\"black\", label = \"Dth_Rte\")\n",
    "plt.xlabel('Months',fontsize =16)\n",
    "plt.ylabel('Death Rate',fontsize =16)\n",
    "plt.legend(loc='upper left')\n",
    "\n",
    "#Build and format plot 2\n",
    "ax2=ax1.twinx()\n",
    "ax2.plot(x_axis, cse_cnt_rptd, linewidth=2, markersize=12,marker=\"o\",color=\"green\", label = \"Cases\")\n",
    "plt.legend(loc='upper right')\n",
    "plt.ylabel('Number of Cases',color=\"green\",fontsize =16)\n",
    "\n",
    "#define title and Lable axis\n",
    "plt.title('Death Rate versus Recorded Cases Over Time',fontsize =18)\n",
    "\n",
    "plt.xticks(x_axis)\n",
    "\n",
    "#Establish plot limits\n",
    "#plt.ylim(-.02, .3)\n",
    "\n",
    "#Save image for potential reference in the report\n",
    "plt.savefig(\"./Images/Plots/dth_rte_per_recorded_case_over_time\", bbox_inches = \"tight\")\n",
    "\n",
    "plt.show()"
   ]
  },
  {
   "cell_type": "markdown",
   "metadata": {},
   "source": [
    "We observed case occurrences with death rate as an overlay.\n",
    "As with the COVID admissions to mortality plot viewed previously, we found early on, there was an extremely high mortality rate versus admissions. Then a declining mortality rate for the remainder of the year ending in November at 1.5%. \n",
    "We noted that even as recorded COVID cases went up, in the latter months (September - November), the mortality rates continued to decline\n",
    "We attribute the early high percentage rates to the low amount of testing and suggest that the latter months of our data may be more reliable for interpretive use as they appear to be more comprehensive."
   ]
  },
  {
   "cell_type": "code",
   "execution_count": null,
   "metadata": {},
   "outputs": [],
   "source": [
    "#Define age grouping 11th month only\n",
    "df_11 = df.loc[df[\"month\"] == 11,:]\n",
    "\n",
    "grp_age_stats = df_11.groupby(['age_group','month'])\n",
    "\n",
    "grp_age_stats.count().head(2)\n",
    "\n",
    "#Age Calculations\n",
    "# Sum on Death \n",
    "sum_age_dth = grp_age_stats[\"death_yn\"].sum()\n",
    "\n",
    "\n",
    "#Create a dataframe to enable statistical regression and plotting\n",
    "grp_stats_age_df = pd.DataFrame({\"Age at Death\" : sum_age_dth                             \n",
    "                             })\n",
    "grp_stats_age_df"
   ]
  },
  {
   "cell_type": "code",
   "execution_count": null,
   "metadata": {},
   "outputs": [],
   "source": [
    "# Generate a bar plot showing the Inpatient Cases and Death Rates by Ethnicity in the 11th Month\n",
    "\n",
    "#Plot Chart\n",
    "\n",
    "measure_plot = grp_stats_age_df.plot.bar(figsize=(18,8), color= ['black'],fontsize = 14)\n",
    "plt.xlabel(\"Age Group\",fontsize = 16)\n",
    "plt.ylabel(\"Death Count\",fontsize = 16)\n",
    "plt.title(\"Inpatient Cases and Death Rates by Ethnicity in the 11th Month\",fontsize = 18)\n",
    "plt.xticks(rotation=45)\n",
    "\n",
    "\n",
    "#Save image for potential reference in the report\n",
    "plt.savefig(\"./Images/Plots/dth_cnt_by_age_grp_plot_by_mnth.png\")\n",
    "\n",
    "plt.show()"
   ]
  },
  {
   "cell_type": "code",
   "execution_count": null,
   "metadata": {},
   "outputs": [],
   "source": [
    "#Define Ethnic grouping 11th month only\n",
    "df_11 = df.loc[df[\"month\"] == 11,:]\n",
    "\n",
    "grp_ethnic_stats = df_11.groupby(['race_ethnicity_combined','month'])\n",
    "\n",
    "grp_ethnic_stats.count().head(2)"
   ]
  },
  {
   "cell_type": "code",
   "execution_count": null,
   "metadata": {},
   "outputs": [],
   "source": [
    "#Age Calculations\n",
    "# Sum on Death \n",
    "sum_ethnic_dth = grp_ethnic_stats[\"death_yn\"].sum()\n",
    "\n",
    "#Count of reported\n",
    "cnt_ethnic_rptd = grp_ethnic_stats[\"cdc_report_dt\"].count()\n",
    "\n",
    "#Ratio of death to reported\n",
    "dth_rate_by_ethnicity = sum_ethnic_dth/cnt_ethnic_rptd\n",
    "\n",
    "#Create a dataframe to enable statistical regression and plotting\n",
    "grp_stats_ethnic_df = pd.DataFrame({\"Cases Reported\":cnt_ethnic_rptd,\n",
    "                                    \"Pct of Reported Dying\":dth_rate_by_ethnicity                                    \n",
    "                             })\n",
    "grp_stats_ethnic_df"
   ]
  },
  {
   "cell_type": "code",
   "execution_count": null,
   "metadata": {},
   "outputs": [],
   "source": [
    "# Generate a bar plot showing the cases reported and percent of reported dying\n",
    "\n",
    "#Plot Chart\n",
    "fig = plt.figure(figsize=(15, 8))\n",
    "\n",
    "width=0.2\n",
    "\n",
    "#Build and format plot 1\n",
    "ax1 = fig.add_subplot(111)\n",
    "grp_stats_ethnic_df['Pct of Reported Dying'].plot.bar(figsize=(18,8), color= ['black'],fontsize = 14, position=1,width=width)\n",
    "plt.xlabel('Ethnicity',fontsize =16)\n",
    "plt.ylabel('Death Rate',fontsize =16)\n",
    "plt.legend(loc='upper left')\n",
    "plt.xticks(rotation=45)\n",
    "\n",
    "#Build and format plot 2\n",
    "ax2=ax1.twinx()\n",
    "grp_stats_ethnic_df['Cases Reported'].plot.bar(figsize=(18,8), color= ['green'],fontsize = 14, position=0,width=width)\n",
    "plt.legend(loc='upper right')\n",
    "plt.ylabel('Cases Reported',color=\"green\",fontsize =16)\n",
    "plt.ylim(0, 55000)\n",
    "\n",
    "#define title and Lable axis\n",
    "plt.title(\"Cases Reported and Percent of Reported Dying in the 11th Month\",fontsize = 18)\n",
    "\n",
    "\n",
    "\n",
    "#Save image for potential reference in the report\n",
    "plt.savefig(\"./Images/Plots/cases_rptd_and_pct_rptd_dth_by_ethnic_grp.png\")\n",
    "\n",
    "plt.show()"
   ]
  },
  {
   "cell_type": "markdown",
   "metadata": {},
   "source": [
    "# 3. Regression Analysis"
   ]
  },
  {
   "cell_type": "code",
   "execution_count": null,
   "metadata": {},
   "outputs": [],
   "source": [
    "# Import dataset\n",
    "\n",
    "df = pd.read_csv('Data/clean_data.csv')\n",
    "df.head()"
   ]
  },
  {
   "cell_type": "markdown",
   "metadata": {},
   "source": [
    "## Dummy Variable Classification\n",
    "Dummy variables are a great way to let the regression software do the heavy lifting in the analysis of causal factors \n",
    "\n",
    "The underlying math is actually the same as a groupby average, but it gives our results in terms of regression coefficients, so we can very easily use them to estimate the future\n",
    "\n",
    "https://conjointly.com/kb/dummy-variables/"
   ]
  },
  {
   "cell_type": "code",
   "execution_count": null,
   "metadata": {},
   "outputs": [],
   "source": [
    "# pandas.get_dummies is custom-built for this\n",
    "\n",
    "# Age:\n",
    "ageDummies = pd.get_dummies(df['age_group'])\n",
    "df = pd.merge(df, ageDummies, left_index=True, right_index=True)\n",
    "\n",
    "# Ethnicity:\n",
    "ethnoDummies = pd.get_dummies(df['race_ethnicity_combined'])\n",
    "df = pd.merge(df, ethnoDummies, left_index=True, right_index= True)\n",
    "\n",
    "df.head()\n"
   ]
  },
  {
   "cell_type": "code",
   "execution_count": null,
   "metadata": {},
   "outputs": [],
   "source": [
    "#REGRESSION: LINEAR PROBABILITY MODEL\n",
    "\n",
    "# Define input variables\n",
    "x = df[['sex', 'medcond_yn', '0 - 9 Years', '10 - 19 Years', '20 - 29 Years',\n",
    "       '30 - 39 Years', '40 - 49 Years', '50 - 59 Years', '60 - 69 Years',\n",
    "       '70 - 79 Years', '80+ Years', 'Native', 'Asian','Black', 'Hispanic',\n",
    "       'Other','Pacific Islander','White']]\n",
    "x = sm.add_constant(x)\n",
    "# Avoid perfect multicollinearity (comment out these two lines and you'll see that it breaks the regression)\n",
    "del x['0 - 9 Years']\n",
    "del x['White']\n",
    "\n",
    "# Define output variable (death)\n",
    "y = df['death_yn']\n",
    "\n",
    "# Ordinary Least Squares Regression\n",
    "model = sm.OLS(y, x, hasconst= True)\n",
    "res = model.fit()\n",
    "res.summary()"
   ]
  },
  {
   "cell_type": "markdown",
   "metadata": {},
   "source": [
    "## Regressing Death: Results\n",
    "Takeaways:\n",
    "- Men are 2.73% more likely to die than women (all else equal)\n",
    "- Those with a medical condition are 3.89% more likely to die than those without (all else equal)\n",
    "- Age's effect on the likelihood of death is shown in fig. 1\n",
    "- Ethnicity's effect is shown in fig. 2\n",
    " \n",
    "This is a very promising Linear Probability model. Every single one of our variables has a p-value of 0, meaning our variables are significant. We have quantified many of the risk factors."
   ]
  },
  {
   "cell_type": "code",
   "execution_count": null,
   "metadata": {},
   "outputs": [],
   "source": [
    "#Figure 1 calculation\n",
    "\n",
    "plt.figure(figsize = (20,8))\n",
    "plt.ylabel('Regression Coefficient', fontsize = 15)\n",
    "plt.xlabel('Age Group', fontsize = 15)\n",
    "res.params.loc['10 - 19 Years': '80+ Years'].plot(kind = 'bar')\n",
    "plt.xticks(rotation = 0, fontsize= 15)\n",
    "plt.title('Fig. 1: Age and Mortality Risk', fontsize = 20)\n",
    "plt.savefig('Images/Regression/fig1_age.png', facecolor = 'white')\n",
    "plt.show()\n"
   ]
  },
  {
   "cell_type": "code",
   "execution_count": null,
   "metadata": {},
   "outputs": [],
   "source": [
    "# Figure 2 calculations\n",
    "\n",
    "plt.figure(figsize = (20,8))\n",
    "plt.title('Fig. 2: Ethnicity and mortality risk', fontsize = 20)\n",
    "plt.ylabel('Regression Coefficient', fontsize = 15)\n",
    "plt.xlabel('Ethnicity', fontsize = 15)\n",
    "\n",
    "res.params.loc['Native': 'Pacific Islander'].plot(kind = 'bar', )\n",
    "plt.xticks(rotation = 0, fontsize= 15)\n",
    "plt.savefig('Images/Regression/fig2_ethnicity.png', facecolor = 'white')\n",
    "plt.show()"
   ]
  },
  {
   "cell_type": "markdown",
   "metadata": {},
   "source": [
    "## Predicting Death\n",
    "So we have demonstrated strong correlation, but what about predictive power? What do our predicted probabilities of death look like when compared with the actual results?"
   ]
  },
  {
   "cell_type": "code",
   "execution_count": null,
   "metadata": {},
   "outputs": [],
   "source": [
    "# Generate predictions\n",
    "df['LPM Prediction'] = res.predict(x)\n",
    "\n",
    "predictions = df[['LPM Prediction', 'death_yn']]\n",
    "\n",
    "deaths = predictions[predictions['death_yn'] == True]\n",
    "lives = predictions[predictions['death_yn'] == False]\n",
    "\n",
    "fig, axs = plt.subplots(1, 2, figsize = (20,8))\n",
    "fig.suptitle('Fig. 3:\\nDistribution of Predictions for the Living and Dead', fontsize= 20)\n",
    "axs[0].hist(lives['LPM Prediction'])\n",
    "axs[0].set_title('Survived:', fontsize = 18)\n",
    "axs[0].set_xlabel('Predicted Probability of Death', fontsize = 15)\n",
    "axs[0].set_ylabel('Frequency', fontsize = 15)\n",
    "\n",
    "axs[1].hist(deaths['LPM Prediction'], bins = 10)\n",
    "axs[1].set_title('Deceased:', fontsize = 18)\n",
    "axs[1].set_xlabel('Predicted Probability of Death', fontsize= 15)\n",
    "axs[1].set_ylabel('Frequency', fontsize = 15)\n",
    "\n",
    "plt.savefig('Images/Regression/fig3_prediction_distribution.png', facecolor = 'white')\n",
    "plt.show()"
   ]
  },
  {
   "cell_type": "markdown",
   "metadata": {},
   "source": [
    "## Analyzing Results\n",
    "It looks like there is a clear pattern between predicted probability of death and actual risk of death. However, the predictions are clearly skewed. The highest predicted probability of death was .46, meaning *no one* was deemed by the model to have a greater chance of dying than surviving. This is due to the fact that only around 6 percent of patients in this dataset ended up dying. \n",
    "\n",
    "Even when you look at the population which is most at risk (80+ year olds), 60% of them survived. So it stands to reason that the model would fail to give a patient a 50+% chance of death, when fewer than 50% of even the most vulnerable patients actually passed away."
   ]
  },
  {
   "cell_type": "code",
   "execution_count": null,
   "metadata": {},
   "outputs": [],
   "source": [
    "# Compare summary statistics for living and dead\n",
    "dead = pd.DataFrame(df[df['death_yn'] == 1]['LPM Prediction'].describe())\n",
    "alive = pd.DataFrame(df[df['death_yn'] == 0]['LPM Prediction'].describe())\n",
    "\n",
    "compare = pd.merge(dead, alive, left_index= True, right_index= True, suffixes = ['_dead', '_alive'])\n",
    "compare.iloc[1:]"
   ]
  },
  {
   "cell_type": "code",
   "execution_count": null,
   "metadata": {},
   "outputs": [],
   "source": [
    "# Save dataframe for more in-depth regression \n",
    "df.to_csv('Data/regression_dataframe.csv', index= False)"
   ]
  },
  {
   "cell_type": "markdown",
   "metadata": {},
   "source": [
    "# 3.1 Examining the Effects of Medical Conditions\n",
    "The purpose of this section is to better understand the effect of pre-existing medical conditions on mortality risk from Covid-19. \n",
    "\n",
    "When I saw the relatively small coefficient for the medcond_yn variable in the original regression, I thought we probably needed to introduce some interaction variables into the model. In linear regression, an interaction variable allows for the effect of one variable (age, ethnicity) to depend on another variable (medcond_yn). In this case, it is reasonable to assume that the presence of a medical condition will present a different degree of risk for a 20 year-old, a 50-year old, and an 80 year-old.\n",
    "\n",
    "We can simply multiply the values of our medcond_yn variable with our dummy classification variables for age and ethnicity. The resulting effect is two regression coefficients per age / ethnicity group. One for those with, and one for those without a pre-existing medical condition. For further reading, check out https://www.theanalysisfactor.com/interaction-dummy-variables-in-linear-regression/"
   ]
  },
  {
   "cell_type": "code",
   "execution_count": null,
   "metadata": {},
   "outputs": [],
   "source": [
    "df = pd.read_csv('Data/regression_dataframe.csv')\n",
    "df.head()"
   ]
  },
  {
   "cell_type": "code",
   "execution_count": null,
   "metadata": {},
   "outputs": [],
   "source": [
    "deaths = df.groupby('medcond_yn').sum()['death_yn']\n",
    "counts = df.groupby('medcond_yn').count()['death_yn']\n",
    "frame = pd.DataFrame({'Deaths': deaths, 'Cases': counts})\n",
    "frame['Pct'] = 100 * (frame['Deaths'] / frame['Cases'])\n",
    "frame.index =['Without', 'With']\n",
    "frame['Pct'].plot(kind='bar', figsize=(20,8))\n",
    "plt.ylabel('Percent who died', fontsize = 15)\n",
    "plt.tick_params(labelrotation = 0)\n",
    "plt.xticks( fontsize = 15)\n",
    "plt.title('Fig. 4:\\nOverall Mortality Rates for Those With and Without Medical Conditions', fontsize = 20)\n",
    "plt.savefig('Images/Regression/fig4_medcond_distribution.png', facecolor = 'white')\n",
    "frame"
   ]
  },
  {
   "cell_type": "code",
   "execution_count": null,
   "metadata": {},
   "outputs": [],
   "source": [
    "# Declare which columns will be interacted with\n",
    "columns = ['20 - 29 Years', '30 - 39 Years',\n",
    "       '40 - 49 Years', '50 - 59 Years', '60 - 69 Years', '70 - 79 Years',\n",
    "       '80+ Years', 'Asian', 'Black', 'Hispanic', 'Native', 'Other',\n",
    "       'Pacific Islander']\n",
    "\n",
    "interactions = []\n",
    "# Multiply each column with medcond_yn to create a new column\n",
    "for col in columns:\n",
    "    colName = col + '_interact'\n",
    "    df[colName] = df[col] * df['medcond_yn']\n",
    "    interactions.append(colName)\n",
    "df[interactions].head()\n"
   ]
  },
  {
   "cell_type": "code",
   "execution_count": null,
   "metadata": {},
   "outputs": [],
   "source": [
    "# Perform analysis\n",
    "exog = ['sex'] + columns + interactions + ['medcond_yn']\n",
    "x = df[exog]\n",
    "x = sm.add_constant(x)\n",
    "\n",
    "y = df['death_yn']\n",
    "\n",
    "model = sm.OLS(y, x, hasconst = True)\n",
    "res = model.fit()\n",
    "res.summary()"
   ]
  },
  {
   "cell_type": "markdown",
   "metadata": {},
   "source": [
    "# Interpretation\n",
    "Woah! Big change in coefficients!\n",
    "\n",
    "In the first regression, we estimated that being 80+ years old increased an individual's likelihood of death by around 40%. Now that we have distinguished between those with a medical condition and those without, that number has dropped to 20%. However, 80 year olds *with* a medical condition have an estimated mortality risk of *over* 40% (20.75 + 23.54). \n",
    "\n",
    "Where we before estimated that 60-69 year-old patients had an almost 10% increased risk of death, we now have them at just 2%! However, those with a medical condition have around a 14% (2.23 + 11.46) risk of dying!\n",
    "\n",
    "The inclusion of this interaction variable has really enhanced the specificity of our results. Let's visualize each age group's mortality, ***taking pre-existing conditions into consideration*** "
   ]
  },
  {
   "cell_type": "code",
   "execution_count": null,
   "metadata": {},
   "outputs": [],
   "source": [
    "# Plot Setup:\n",
    "fig, axs = plt.subplots(1, 2, figsize = (25,10))\n",
    "fig.suptitle('Fig. 5:\\nMedical Conditions and Age', fontsize = 20)\n",
    "\n",
    "axs[0].set_ylabel('Mortality Risk', fontsize = 15)\n",
    "axs[1].set_ylabel('Pct of Group Deceased', fontsize = 15)\n",
    "axs[0].set_title('Regression Coefficients', fontsize = 20)\n",
    "axs[1].set_title('Actual Mortality', fontsize = 20)\n",
    "\n",
    "\n",
    "# Coefficients:\n",
    "Without = res.params.loc['20 - 29 Years': '80+ Years']\n",
    "With = res.params.loc['20 - 29 Years_interact':'80+ Years_interact']\n",
    "\n",
    "coefficients = pd.DataFrame({'Without': Without.values, 'With': Without.values + With.values})\n",
    "coefficients.set_index(Without.index, inplace = True)\n",
    "\n",
    "coefficients.plot(kind='bar', ax = axs[0])\n",
    "axs[0].tick_params(labelrotation = 0)\n",
    "axs[0].set_xlabel('Age Group', fontsize = 15)\n",
    "axs[0].legend(['Without', 'With'], fontsize = 20)\n",
    "#Actual Values:\n",
    "# Groupby age group and medical condition - compare share of death\n",
    "sums = df.groupby(['age_group', 'medcond_yn']).sum()['death_yn']\n",
    "counts = df.groupby(['age_group', 'medcond_yn']).count()['death_yn']\n",
    "compare = pd.merge(sums, counts, left_index = True, right_index = True).rename(columns = {'death_yn_x': 'Total Deaths',\n",
    "                                                                                         'death_yn_y': 'Total Cases'})\n",
    "compare['Pct Dead'] = (compare['Total Deaths'] / compare['Total Cases']) * 100\n",
    "compare = compare['Pct Dead'].unstack().rename(columns= {0: 'Without', 1: 'With'})\n",
    "\n",
    "compare.plot(kind='bar', ax = axs[1])\n",
    "axs[1].set_xlabel('Age Group', fontsize = 15)\n",
    "axs[1].tick_params(labelrotation = 0)\n",
    "axs[1].legend(['Without', 'With'], fontsize = 20)\n",
    "\n",
    "plt.savefig('Images/Regression/fig5_age_and_medcond.png', facecolor = 'white')\n",
    "plt.show()"
   ]
  },
  {
   "cell_type": "code",
   "execution_count": null,
   "metadata": {},
   "outputs": [],
   "source": [
    "# Plot Setup:\n",
    "fig, axs = plt.subplots(1, 2, figsize = (25,10))\n",
    "fig.suptitle('Fig. 6:\\nMedical Conditions and Ethnicity', fontsize = 20)\n",
    "\n",
    "axs[0].set_ylabel('Mortality Risk', fontsize = 15)\n",
    "axs[1].set_ylabel('Pct of Group Deceased', fontsize = 15)\n",
    "axs[0].set_title('Regression Coefficients', fontsize = 20)\n",
    "axs[1].set_title('Actual Mortality', fontsize = 20)\n",
    "\n",
    "\n",
    "# Coefficients:\n",
    "Without = res.params.loc['Asian': 'Pacific Islander']\n",
    "With = res.params.loc['Asian_interact':'Pacific Islander_interact']\n",
    "\n",
    "coefficients = pd.DataFrame({'Without': Without.values, 'With': Without.values + With.values})\n",
    "coefficients.set_index(Without.index, inplace = True)\n",
    "\n",
    "coefficients.plot(kind='bar', ax = axs[0])\n",
    "axs[0].tick_params(labelrotation = 0)\n",
    "axs[0].set_xlabel('Age Group', fontsize = 15)\n",
    "axs[0].legend(['Without', 'With'], fontsize = 20)\n",
    "#Actual Values:\n",
    "# Groupby age group and medical condition - compare share of death\n",
    "sums = df.groupby(['race_ethnicity_combined', 'medcond_yn']).sum()['death_yn']\n",
    "counts = df.groupby(['race_ethnicity_combined', 'medcond_yn']).count()['death_yn']\n",
    "compare = pd.merge(sums, counts, left_index = True, right_index = True).rename(columns = {'death_yn_x': 'Total Deaths',\n",
    "                                                                                         'death_yn_y': 'Total Cases'})\n",
    "compare['Pct Dead'] = (compare['Total Deaths'] / compare['Total Cases']) * 100\n",
    "compare = compare['Pct Dead'].unstack().rename(columns= {0: 'Without', 1: 'With'})\n",
    "\n",
    "compare.plot(kind='bar', ax = axs[1])\n",
    "axs[1].set_xlabel('Age Group', fontsize = 15)\n",
    "axs[1].tick_params(labelrotation = 0)\n",
    "axs[1].legend(['Without', 'With'], fontsize = 20)\n",
    "\n",
    "plt.savefig('Images/Regression/fig6_ethnicity_and_medcond.png', facecolor = 'white')\n",
    "plt.show()"
   ]
  },
  {
   "cell_type": "markdown",
   "metadata": {},
   "source": [
    "## Interpretation\n",
    "So this graph tells  us two things:\n",
    "1. Asian and Black people see the highest increased risk of mortality with the presence of pre-existing conditions\n",
    "2. The presence of pre-existing medical conditions is a much higher risk factor than what the first model initally suggested \n",
    "\n",
    "## Why the big change?\n",
    "Recall that in the first model, the presence of a medical condition was estimated to increase mortality risk by just 3 percent. When specifying by ethnicity and age, however, we see much larger coefficients for the presence of a medical condition. Before, we had not properly specified the model somehow. But how?\n",
    "\n",
    "One possibility is that the majority of those with medical conditions are young, and they see very little increased risk. If the majority of patients in this dataset are young, then an unspecified regression analysis would see that the majority of those with medical conditions do **not** pass away.\n",
    "\n",
    "Another possibility is that the majority of those with medical conditions are very *old*, and the regression has \"confused\" the effect of age with the effect of medical condition. If the majority of those with medical conditions are 80+ years old, and 80+ year-olds see the highest rate of mortality, then an unspecified regression analysis would see a much stronger correlation between *age* and mortality than between the presence of medical conditions and mortality.\n",
    "\n",
    "Lets look at the distribution of medical conditions by age and see if either of these guesses are correct."
   ]
  },
  {
   "cell_type": "code",
   "execution_count": null,
   "metadata": {},
   "outputs": [],
   "source": [
    "# Group by age group and show intra-group frequency of medical conditions\n",
    "sums = df.groupby('age_group').sum()['medcond_yn']\n",
    "counts = df.groupby('age_group').count()['medcond_yn']\n",
    "\n",
    "totals = pd.DataFrame({'Total With Conditions': sums, 'Total': counts})\n",
    "totals['Pct'] = totals['Total With Conditions'] / totals['Total']\n",
    "totals['Pct'].plot(kind = 'bar', figsize = (20,8))\n",
    "totals['Pct of Pop'] = totals['Total'] / df.shape[0]\n",
    "plt.ylabel('Pct of Age Group with a Condition', fontsize = 15)\n",
    "plt.xlabel('Age Group', fontsize = 15)\n",
    "plt.xticks(rotation = 0, fontsize = 13)\n",
    "plt.yticks(fontsize = 13)\n",
    "plt.title('Fig. 7:\\nAge Groups and the Frequency of Medical Conditions', fontsize = 20)\n",
    "plt.savefig('Images/Regression/fig7_age_medcond_distribution.png', facecolor = 'white')\n",
    "plt.show()"
   ]
  },
  {
   "cell_type": "markdown",
   "metadata": {},
   "source": [
    "## Age Bias\n",
    "It does, in fact, look like the presence of medical conditions is heavily skewed with age. Not only that, but the majority of observations in this dataset are of individuals younger than 60 years old. In other words, most observations are of people for whom the presence of a medical condition increases mortality risk by less than 10%\n",
    "\n",
    "This explains why we see such a huge disparity in the medcond_yn coefficients before and after including the interaction variables.\n",
    "\n",
    "By specifying the intra-group presence of medical conditions, we have painted a much clearer picture of the causes of mortality \n",
    "\n",
    "## Predictive Power\n",
    "Now that we have re-specified our model, we can check its predictive power again."
   ]
  },
  {
   "cell_type": "code",
   "execution_count": null,
   "metadata": {},
   "outputs": [],
   "source": [
    "# Replace current prediction estimates (from the last regression)\n",
    "df['LPM Prediction'] = res.predict(x)\n",
    "deaths = df[df['death_yn'] == 1]\n",
    "lives = df[df['death_yn'] == 0]\n",
    "\n",
    "fig, axs = plt.subplots(1, 2, figsize = (20,8))\n",
    "fig.suptitle('Fig. 8:\\nImproved Distribution of Predictions for the Living and Dead', fontsize = 20)\n",
    "lives['LPM Prediction'].hist(ax = axs[0])\n",
    "deaths['LPM Prediction'].hist(ax = axs[1])\n",
    "for ax in axs:\n",
    "    ax.set_xlabel('Predicted Death Risk', fontsize = 15)\n",
    "    ax.set_ylabel('# of Occurences', fontsize = 15)\n",
    "\n",
    "axs[0].set_title('Survived', fontsize = 15)\n",
    "axs[1].set_title('Deceased', fontsize = 15)\n",
    "\n",
    "plt.savefig('Images/Regression/fig8_improved_prediction_distribution.png')\n",
    "plt.show()"
   ]
  },
  {
   "cell_type": "markdown",
   "metadata": {},
   "source": [
    "## Better fit\n",
    "Our prediction distribution looks **very** similar to the one from the first regression (Fig. 3) However, it is more skewed in the correct directions (left for the survived, right for the deceased). We have improved our model!\n",
    "# 3.2 Changes over time\n",
    "Thus far, we have not taken into account that the treatment options for Covid-19 have greatly improved over time. If we isolate the effect of time's passing, it will better enable us to identify the causal factors behind mortality risk."
   ]
  },
  {
   "cell_type": "code",
   "execution_count": null,
   "metadata": {},
   "outputs": [],
   "source": [
    "# First, let's visualize it\n",
    "dead = df.groupby('month').sum()['death_yn']\n",
    "counts = df.groupby('month').count()['death_yn']\n",
    "deaths_by_month = pd.DataFrame({'Deaths': dead, 'Cases': counts})\n",
    "deaths_by_month['Pct'] = (deaths_by_month['Deaths'] / deaths_by_month['Cases']) * 100\n",
    "deaths_by_month['Pct'].plot(figsize = (20,8), marker = 'o', markerfacecolor = 'r')\n",
    "plt.xlabel('Month', fontsize = 15)\n",
    "plt.ylabel('Percent of patients who died', fontsize = 15)\n",
    "plt.title('Fig. 9:\\nOverall Death Rate Over Time', fontsize = 20)\n",
    "plt.savefig('Images/Regression/fig9_death_over_time.png')"
   ]
  },
  {
   "cell_type": "code",
   "execution_count": null,
   "metadata": {},
   "outputs": [],
   "source": [
    "# Grab the occupancy column from the main dataframe\n",
    "cap = pd.read_csv('Data/clean_data.csv')['inpatient__occupancy']\n",
    "df['Hospital Capacity'] = cap\n",
    "cap_by_month = df.groupby('month').mean()['Hospital Capacity'] * 100\n",
    "\n",
    "# We got the column. Now let's plot it\n",
    "deaths_by_month['Pct'].plot(figsize = (20,8), marker = 'o', markerfacecolor = 'r')\n",
    "cap_by_month.plot()\n",
    "plt.xlabel('Month', fontsize = 15)\n",
    "plt.ylabel('Percent of patients who died', fontsize = 15)\n",
    "plt.title('Fig. 10:\\nDeath Rate and Hospital Capacity', fontsize = 20)\n",
    "plt.legend(['Death Rate', 'Capacity'], fontsize = 15)\n",
    "plt.savefig('Images/Regression/fig10_death_and_capacity.png')"
   ]
  },
  {
   "cell_type": "markdown",
   "metadata": {},
   "source": [
    "It seems that over time, hospital occupancy has gone up, and the death rate has gone down in spite of this fact. Now, let's quantify the time effect by introducing some time-fixed-effects into our model. Not only will this reflect the trend seen above in Fig. 10, but it will allow the regression software to specify its other coefficients even more accurately due to the mitigation of ommitted variable bias."
   ]
  },
  {
   "cell_type": "code",
   "execution_count": null,
   "metadata": {},
   "outputs": [],
   "source": [
    "months = pd.get_dummies(df['month'])\n",
    "months\n",
    "\n",
    "# This for loop is the same as a merge. \n",
    "for i in range(2, 12):\n",
    "    x['month ' + str(i)] = months[i]\n",
    "\n",
    "x.head()"
   ]
  },
  {
   "cell_type": "code",
   "execution_count": null,
   "metadata": {},
   "outputs": [],
   "source": [
    "model = sm.OLS(y, x, hasconst = True)\n",
    "res = model.fit()\n",
    "res.summary()"
   ]
  },
  {
   "cell_type": "markdown",
   "metadata": {},
   "source": [
    "At first glance, it looks like the size of most of our coefficients have remained the same"
   ]
  },
  {
   "cell_type": "code",
   "execution_count": null,
   "metadata": {},
   "outputs": [],
   "source": [
    "res.params.loc['month 2': 'month 11'].plot(kind = 'bar', figsize = (20,8))\n",
    "plt.tick_params(labelrotation = 0)\n",
    "plt.xlabel('Month', fontsize = 15)\n",
    "plt.ylabel('Coefficient', fontsize = 15)\n",
    "plt.title('Fig. 11:\\nTime Fixed Effects', fontsize = 20)\n",
    "plt.savefig('Images/Regression/fig11_time_fixed_effects')"
   ]
  },
  {
   "cell_type": "markdown",
   "metadata": {},
   "source": [
    "## Model Respecification\n",
    "By introducing these time-fixed-effects, we have certainly changed the regression coefficients. Let's see if our above observations continue to hold water after re-specifying the model \n",
    "\n",
    "***Note***: *The below code is a copy-paste from the code that generated figures 5 and 6*"
   ]
  },
  {
   "cell_type": "code",
   "execution_count": null,
   "metadata": {},
   "outputs": [],
   "source": [
    "# Plot Setup:\n",
    "fig, axs = plt.subplots(1, 2, figsize = (25,10))\n",
    "fig.suptitle('Fig. 12:\\nMedical Conditions and Age\\n(After Inclusion of Fixed Effects)', fontsize = 20)\n",
    "\n",
    "axs[0].set_ylabel('Mortality Risk', fontsize = 15)\n",
    "axs[1].set_ylabel('Pct of Group Deceased', fontsize = 15)\n",
    "axs[0].set_title('Regression Coefficients', fontsize = 20)\n",
    "axs[1].set_title('Actual Mortality', fontsize = 20)\n",
    "\n",
    "\n",
    "# Coefficients:\n",
    "Without = res.params.loc['20 - 29 Years': '80+ Years']\n",
    "With = res.params.loc['20 - 29 Years_interact':'80+ Years_interact']\n",
    "\n",
    "coefficients = pd.DataFrame({'Without': Without.values, 'With': Without.values + With.values})\n",
    "coefficients.set_index(Without.index, inplace = True)\n",
    "\n",
    "coefficients.plot(kind='bar', ax = axs[0])\n",
    "axs[0].tick_params(labelrotation = 0)\n",
    "axs[0].set_xlabel('Age Group', fontsize = 15)\n",
    "axs[0].legend(['Without', 'With'], fontsize = 20)\n",
    "#Actual Values:\n",
    "# Groupby age group and medical condition - compare share of death\n",
    "sums = df.groupby(['age_group', 'medcond_yn']).sum()['death_yn']\n",
    "counts = df.groupby(['age_group', 'medcond_yn']).count()['death_yn']\n",
    "compare = pd.merge(sums, counts, left_index = True, right_index = True).rename(columns = {'death_yn_x': 'Total Deaths',\n",
    "                                                                                         'death_yn_y': 'Total Cases'})\n",
    "compare['Pct Dead'] = (compare['Total Deaths'] / compare['Total Cases']) * 100\n",
    "compare = compare['Pct Dead'].unstack().rename(columns= {0: 'Without', 1: 'With'})\n",
    "\n",
    "compare.plot(kind='bar', ax = axs[1])\n",
    "axs[1].set_xlabel('Age Group', fontsize = 15)\n",
    "axs[1].tick_params(labelrotation = 0)\n",
    "axs[1].legend(['Without', 'With'], fontsize = 20)\n",
    "\n",
    "plt.savefig('Images/Regression/fig12_age_and_medcond_post_FE.png', facecolor = 'white')\n",
    "plt.show()"
   ]
  },
  {
   "cell_type": "code",
   "execution_count": null,
   "metadata": {},
   "outputs": [],
   "source": [
    "# Plot Setup:\n",
    "fig, axs = plt.subplots(1, 2, figsize = (25,10))\n",
    "fig.suptitle('Fig. 13:\\nMedical Conditions and Ethnicity\\n(After Inclusion of Fixed Effects)', fontsize = 20)\n",
    "\n",
    "axs[0].set_ylabel('Mortality Risk', fontsize = 15)\n",
    "axs[1].set_ylabel('Pct of Group Deceased', fontsize = 15)\n",
    "axs[0].set_title('Regression Coefficients', fontsize = 20)\n",
    "axs[1].set_title('Actual Mortality', fontsize = 20)\n",
    "\n",
    "\n",
    "# Coefficients:\n",
    "Without = res.params.loc['Asian': 'Pacific Islander']\n",
    "With = res.params.loc['Asian_interact':'Pacific Islander_interact']\n",
    "\n",
    "coefficients = pd.DataFrame({'Without': Without.values, 'With': Without.values + With.values})\n",
    "coefficients.set_index(Without.index, inplace = True)\n",
    "\n",
    "coefficients.plot(kind='bar', ax = axs[0])\n",
    "axs[0].tick_params(labelrotation = 0)\n",
    "axs[0].set_xlabel('Age Group', fontsize = 15)\n",
    "axs[0].legend(['Without', 'With'], fontsize = 20)\n",
    "#Actual Values:\n",
    "# Groupby age group and medical condition - compare share of death\n",
    "sums = df.groupby(['race_ethnicity_combined', 'medcond_yn']).sum()['death_yn']\n",
    "counts = df.groupby(['race_ethnicity_combined', 'medcond_yn']).count()['death_yn']\n",
    "compare = pd.merge(sums, counts, left_index = True, right_index = True).rename(columns = {'death_yn_x': 'Total Deaths',\n",
    "                                                                                         'death_yn_y': 'Total Cases'})\n",
    "compare['Pct Dead'] = (compare['Total Deaths'] / compare['Total Cases']) * 100\n",
    "compare = compare['Pct Dead'].unstack().rename(columns= {0: 'Without', 1: 'With'})\n",
    "\n",
    "compare.plot(kind='bar', ax = axs[1])\n",
    "axs[1].set_xlabel('Age Group', fontsize = 15)\n",
    "axs[1].tick_params(labelrotation = 0)\n",
    "axs[1].legend(['Without', 'With'], fontsize = 20)\n",
    "\n",
    "plt.savefig('Images/Regression/fig13_ethnicity_and_medcond_post_FE.png', facecolor = 'white')\n",
    "plt.show()"
   ]
  },
  {
   "cell_type": "markdown",
   "metadata": {},
   "source": [
    "One noticeable change: There are now quite a few negative coefficients. If you look close, the pattern is the same as before. \n",
    "\n",
    "In other words, ***Relative to each other***, all of our coefficients have maintained the same values. We have simply given more accuracy to the model **overall** by introducing these time-fixed-effects. Our R-squared value rose by 15 percent (0.212 --> 0.244), so that is a good sign. An even better picture would be to repeat the excercise where we show the distribution of predicted probabilities.\n",
    "\n",
    "*Note: R-squared went up, and that is a positive sign, but for Linear Probability Models, R-squared is a very poor measure of quality. It cannot be interpreted intuitively. That it rose is a good sign, but its value should always be taken with a grain of salt, especially in the case of a Linear Probability Model*"
   ]
  },
  {
   "cell_type": "code",
   "execution_count": null,
   "metadata": {},
   "outputs": [],
   "source": [
    "# Replace current prediction estimates (from the last regression)\n",
    "df['LPM Prediction'] = res.predict(x)\n",
    "deaths = df[df['death_yn'] == 1]\n",
    "lives = df[df['death_yn'] == 0]\n",
    "\n",
    "fig, axs = plt.subplots(1, 2, figsize = (20,8))\n",
    "fig.suptitle('Fig. 14:\\nImproved Distribution of Predictions for the Living and Dead', fontsize = 20)\n",
    "lives['LPM Prediction'].hist(ax = axs[0])\n",
    "deaths['LPM Prediction'].hist(ax = axs[1])\n",
    "for ax in axs:\n",
    "    ax.set_xlabel('Predicted Death Risk', fontsize = 15)\n",
    "    ax.set_ylabel('# of Occurences', fontsize = 15)\n",
    "\n",
    "axs[0].set_title('Survived', fontsize = 15)\n",
    "axs[1].set_title('Deceased', fontsize = 15)\n",
    "\n",
    "plt.savefig('Images/Regression/fig14_improved_prediction_distribution_post_FE.png')\n",
    "plt.show()"
   ]
  },
  {
   "cell_type": "markdown",
   "metadata": {},
   "source": [
    "The distributions have moved *even further* in the correct directions."
   ]
  }
 ],
 "metadata": {
  "kernelspec": {
   "display_name": "Python 3",
   "language": "python",
   "name": "python3"
  },
  "language_info": {
   "codemirror_mode": {
    "name": "ipython",
    "version": 3
   },
   "file_extension": ".py",
   "mimetype": "text/x-python",
   "name": "python",
   "nbconvert_exporter": "python",
   "pygments_lexer": "ipython3",
   "version": "3.8.5"
  }
 },
 "nbformat": 4,
 "nbformat_minor": 4
}
